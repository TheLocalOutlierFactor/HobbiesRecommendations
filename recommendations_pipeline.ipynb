{
 "cells": [
  {
   "cell_type": "markdown",
   "metadata": {},
   "source": [
    "# Чтение и обработка данных"
   ]
  },
  {
   "cell_type": "code",
   "execution_count": 1,
   "metadata": {},
   "outputs": [],
   "source": [
    "# Выбираем нужные категории\n",
    "hobbies = ['History',\n",
    "           'Psychology',\n",
    "           'Politics',\n",
    "           'Mathematics',\n",
    "           'Physics',\n",
    "           'Internet',\n",
    "           'PC',\n",
    "           'Economy Management',\n",
    "           'Biology',\n",
    "           'Chemistry',\n",
    "           'Reading',\n",
    "           'Geography',\n",
    "           'Foreign languages',\n",
    "           'Medicine',\n",
    "           'Law',\n",
    "           'Cars',\n",
    "           'Art exhibitions',\n",
    "           'Religion',\n",
    "           'Countryside, outdoors',\n",
    "           'Dancing',\n",
    "           'Musical instruments',\n",
    "           'Writing',\n",
    "           'Passive sport',\n",
    "           'Active sport',\n",
    "           'Gardening',\n",
    "           'Celebrities',\n",
    "           'Shopping',\n",
    "           'Science and technology',\n",
    "           'Theatre',\n",
    "           'Fun with friends',\n",
    "           'Adrenaline sports',\n",
    "           'Pets',\n",
    "          ]\n",
    "\n",
    "personality = ['Daily events',\n",
    "               'Prioritising workload',\n",
    "               'Writing notes',\n",
    "               'Workaholism',\n",
    "               'Thinking ahead',\n",
    "               'Final judgement',\n",
    "               'Reliability',\n",
    "               'Keeping promises',\n",
    "               'Loss of interest',\n",
    "               'Friends versus money',\n",
    "               'Funniness',\n",
    "               'Fake',\n",
    "               'Criminal damage',\n",
    "               'Decision making',\n",
    "               'Elections',\n",
    "               'Self-criticism',\n",
    "               'Judgment calls',\n",
    "               'Hypochondria',\n",
    "               'Empathy',\n",
    "               'Eating to survive',\n",
    "               'Giving',\n",
    "               'Compassion to animals',\n",
    "               'Borrowed stuff',\n",
    "               'Loneliness',\n",
    "               'Cheating in school',\n",
    "               'Health',\n",
    "               'Changing the past',\n",
    "               'God',\n",
    "               'Dreams',\n",
    "               'Charity',\n",
    "               'Number of friends',\n",
    "               'Punctuality',\n",
    "               'Lying',\n",
    "               'Waiting',\n",
    "               'New environment',\n",
    "               'Mood swings',\n",
    "               'Appearence and gestures',\n",
    "               'Socializing',\n",
    "               'Achievements',\n",
    "               'Responding to a serious letter',\n",
    "               'Children',\n",
    "               'Assertiveness',\n",
    "               'Getting angry',\n",
    "               'Knowing the right people',\n",
    "               'Public speaking',\n",
    "               'Unpopularity',\n",
    "               'Life struggles',\n",
    "               'Happiness in life',\n",
    "               'Energy levels',\n",
    "               'Small - big dogs',\n",
    "               'Personality',\n",
    "               'Finding lost valuables',\n",
    "               'Getting up',\n",
    "               'Interests or hobbies',\n",
    "               \"Parents' advice\",\n",
    "               'Questionnaires or polls',\n",
    "               'Internet usage',\n",
    "               ]"
   ]
  },
  {
   "cell_type": "code",
   "execution_count": 2,
   "metadata": {
    "scrolled": true
   },
   "outputs": [],
   "source": [
    "# Импортируем библиотеки\n",
    "import pandas as pd\n",
    "import numpy as np\n",
    "import matplotlib.pyplot as plt\n",
    "from collections import Counter\n",
    "from tqdm import tqdm\n",
    "\n",
    "from sklearn.model_selection import train_test_split as train\n",
    "from skmultilearn.model_selection import iterative_train_test_split as it_train\n",
    "from skmultilearn.model_selection import IterativeStratification\n",
    "\n",
    "from sklearn import preprocessing\n",
    "from sklearn.neighbors import LocalOutlierFactor\n",
    "\n",
    "from sklearn.ensemble import RandomForestClassifier\n",
    "from sklearn.neural_network import MLPClassifier\n",
    "\n",
    "from sklearn.model_selection import GridSearchCV\n",
    "from sklearn.model_selection import cross_val_score\n",
    "\n",
    "from sklearn.metrics import classification_report\n",
    "from sklearn.metrics import roc_auc_score\n",
    "from sklearn.metrics import auc\n",
    "from sklearn.metrics import precision_recall_curve\n",
    "from sklearn.metrics import average_precision_score\n",
    "from sklearn.metrics import accuracy_score\n",
    "from sklearn.metrics import make_scorer\n",
    "from sklearn.metrics import f1_score\n",
    "\n",
    "from sklearn.metrics.pairwise import cosine_distances\n",
    "\n",
    "from joblib import dump"
   ]
  },
  {
   "cell_type": "code",
   "execution_count": 3,
   "metadata": {},
   "outputs": [],
   "source": [
    "# Чтение данных и замена категориальных значений\n",
    "df = pd.read_csv('datasets_117_1001_responses.csv')\n",
    "\n",
    "df['Smoking'].replace(to_replace=['never smoked', \n",
    "                                  'tried smoking', \n",
    "                                  'former smoker', \n",
    "                                  'current smoker'], \n",
    "                      value=[1.0, \n",
    "                             2.0, \n",
    "                             3.0, \n",
    "                             4.0], \n",
    "                      inplace=True)\n",
    "df['Alcohol'].replace(to_replace=['drink a lot', \n",
    "                                  'social drinker', \n",
    "                                  'never'], \n",
    "                      value=[3.0, \n",
    "                             2.0, \n",
    "                             1.0], \n",
    "                      inplace=True)\n",
    "df['Punctuality'].replace(to_replace=['i am always on time', \n",
    "                                      'i am often early', \n",
    "                                      'i am often running late'], \n",
    "                      value=[3.0, \n",
    "                             2.0, \n",
    "                             1.0], \n",
    "                      inplace=True)\n",
    "df['Lying'].replace(to_replace=['never', \n",
    "                                'only to avoid hurting someone', \n",
    "                                'sometimes', \n",
    "                                'everytime it suits me'], \n",
    "                      value=[1.0, \n",
    "                             2.0, \n",
    "                             3.0, \n",
    "                             4.0], \n",
    "                      inplace=True)\n",
    "df['Internet usage'].replace(to_replace=['most of the day', \n",
    "                                         'few hours a day', \n",
    "                                         'less than an hour a day', \n",
    "                                         'no time at all'], \n",
    "                      value=[4.0, \n",
    "                             3.0, \n",
    "                             2.0, \n",
    "                             1.0], \n",
    "                      inplace=True)\n",
    "df['Gender'].replace(to_replace=['female', \n",
    "                                 'male'], \n",
    "                      value=[1.0, \n",
    "                             2.0], \n",
    "                      inplace=True)\n",
    "df['Left - right handed'].replace(to_replace=['right handed', \n",
    "                                              'left handed'], \n",
    "                      value=[1.0, \n",
    "                             2.0], \n",
    "                      inplace=True)\n",
    "df['Education'].replace(to_replace=\n",
    "                        ['currently a primary school pupil', \n",
    "                         'primary school', \n",
    "                         'secondary school', \n",
    "                         'college/bachelor degree', \n",
    "                         'masters degree', \n",
    "                         'doctorate degree'], \n",
    "                      value=[1.0, \n",
    "                             2.0, \n",
    "                             3.0, \n",
    "                             4.0, \n",
    "                             5.0, \n",
    "                             6.0], \n",
    "                      inplace=True)\n",
    "df['Only child'].replace(to_replace=['no', \n",
    "                                     'yes'], \n",
    "                      value=[1.0, \n",
    "                             2.0], \n",
    "                      inplace=True)\n",
    "df['Village - town'].replace(to_replace=['village', \n",
    "                                         'city'], \n",
    "                      value=[1.0, \n",
    "                             2.0], \n",
    "                      inplace=True)\n",
    "df['House - block of flats'].replace(to_replace=['block of flats', \n",
    "                                                 'house/bungalow'], \n",
    "                      value=[1.0, \n",
    "                             2.0], \n",
    "                      inplace=True)"
   ]
  },
  {
   "cell_type": "code",
   "execution_count": 4,
   "metadata": {},
   "outputs": [],
   "source": [
    "# Заполняем NaN'ы\n",
    "# Для возраста, роста, веса используем округленное \n",
    "# среднее значение по столбцу,\n",
    "# для целевых признаков (хобби) заполняем пропуски \n",
    "# единицей,\n",
    "# а для остальных признаков - самое частое значение\n",
    "for column in ['Age', 'Height', 'Weight']:\n",
    "    df[column].fillna(np.around(df[column].mean()), inplace=True)\n",
    "    \n",
    "df[hobbies] = df[hobbies].fillna(1)\n",
    "\n",
    "df.fillna(df.mode().iloc[0], inplace=True)"
   ]
  },
  {
   "cell_type": "markdown",
   "metadata": {},
   "source": [
    "# Анализ и подготовка данных"
   ]
  },
  {
   "cell_type": "code",
   "execution_count": 5,
   "metadata": {},
   "outputs": [
    {
     "name": "stdout",
     "output_type": "stream",
     "text": [
      "Chemistry               -0.074630\n",
      "Countryside, outdoors   -0.055817\n",
      "Law                      0.271804\n",
      "Politics                 0.465930\n",
      "Name: Daily events, dtype: float64\n",
      "\n",
      "Internet           -0.071699\n",
      "Fun with friends   -0.060845\n",
      "Mathematics         0.110552\n",
      "Gardening           0.146120\n",
      "Name: Prioritising workload, dtype: float64\n",
      "\n",
      "Passive sport     -0.098786\n",
      "Cars              -0.088056\n",
      "Art exhibitions    0.181708\n",
      "Dancing            0.184453\n",
      "Name: Writing notes, dtype: float64\n",
      "\n",
      "Celebrities              -0.100145\n",
      "Passive sport            -0.074057\n",
      "Science and technology    0.189832\n",
      "Reading                   0.202455\n",
      "Name: Workaholism, dtype: float64\n",
      "\n",
      "Fun with friends         -0.091569\n",
      "Passive sport            -0.061891\n",
      "History                   0.127791\n",
      "Science and technology    0.129840\n",
      "Name: Thinking ahead, dtype: float64\n",
      "\n",
      "Adrenaline sports   -0.069595\n",
      "Active sport        -0.058387\n",
      "Dancing              0.156023\n",
      "Religion             0.285769\n",
      "Name: Final judgement, dtype: float64\n",
      "\n",
      "Passive sport        -0.035063\n",
      "Writing              -0.011385\n",
      "Economy Management    0.140563\n",
      "Theatre               0.141522\n",
      "Name: Reliability, dtype: float64\n",
      "\n",
      "Celebrities    -0.003757\n",
      "Shopping        0.005596\n",
      "Active sport    0.105800\n",
      "Mathematics     0.107069\n",
      "Name: Keeping promises, dtype: float64\n",
      "\n",
      "Gardening           -0.060310\n",
      "Passive sport       -0.040516\n",
      "Adrenaline sports    0.089796\n",
      "Celebrities          0.104290\n",
      "Name: Loss of interest, dtype: float64\n",
      "\n",
      "Cars                    -0.073343\n",
      "Politics                -0.053519\n",
      "Countryside, outdoors    0.183266\n",
      "Fun with friends         0.219228\n",
      "Name: Friends versus money, dtype: float64\n",
      "\n",
      "Reading                  -0.061095\n",
      "Dancing                  -0.048482\n",
      "Science and technology    0.167621\n",
      "PC                        0.201685\n",
      "Name: Funniness, dtype: float64\n",
      "\n",
      "Fun with friends   -0.172142\n",
      "Active sport       -0.078666\n",
      "Celebrities         0.071988\n",
      "Writing             0.092613\n",
      "Name: Fake, dtype: float64\n",
      "\n",
      "Reading             -0.153037\n",
      "Theatre             -0.129166\n",
      "Adrenaline sports    0.130692\n",
      "Cars                 0.168772\n",
      "Name: Criminal damage, dtype: float64\n",
      "\n",
      "Adrenaline sports   -0.186865\n",
      "Law                 -0.111003\n",
      "Chemistry            0.075370\n",
      "Biology              0.114282\n",
      "Name: Decision making, dtype: float64\n",
      "\n",
      "Celebrities   -0.097786\n",
      "Shopping      -0.065164\n",
      "Theatre        0.173479\n",
      "Politics       0.281501\n",
      "Name: Elections, dtype: float64\n",
      "\n",
      "Cars              -0.108021\n",
      "Active sport      -0.107890\n",
      "Art exhibitions    0.133239\n",
      "Reading            0.155535\n",
      "Name: Self-criticism, dtype: float64\n",
      "\n",
      "Chemistry           -0.054551\n",
      "Mathematics         -0.037721\n",
      "Foreign languages    0.138525\n",
      "Psychology           0.168724\n",
      "Name: Judgment calls, dtype: float64\n",
      "\n",
      "Adrenaline sports   -0.087501\n",
      "Fun with friends    -0.072430\n",
      "Writing              0.094930\n",
      "Celebrities          0.115387\n",
      "Name: Hypochondria, dtype: float64\n",
      "\n",
      "Cars         -0.169939\n",
      "PC           -0.141799\n",
      "Theatre       0.182873\n",
      "Psychology    0.188067\n",
      "Name: Empathy, dtype: float64\n",
      "\n",
      "Reading               -0.103784\n",
      "Theatre               -0.102943\n",
      "Musical instruments    0.089792\n",
      "Cars                   0.101239\n",
      "Name: Eating to survive, dtype: float64\n",
      "\n",
      "Physics    -0.065314\n",
      "Politics   -0.057312\n",
      "Dancing     0.184763\n",
      "Shopping    0.243005\n",
      "Name: Giving, dtype: float64\n",
      "\n",
      "PC            -0.100631\n",
      "Mathematics   -0.087993\n",
      "Theatre        0.145322\n",
      "Pets           0.375751\n",
      "Name: Compassion to animals, dtype: float64\n",
      "\n",
      "Politics   -0.014460\n",
      "Writing    -0.013858\n",
      "Biology     0.079424\n",
      "Pets        0.087215\n",
      "Name: Borrowed stuff, dtype: float64\n",
      "\n",
      "Active sport       -0.142824\n",
      "Fun with friends   -0.137907\n",
      "Reading             0.096158\n",
      "Writing             0.174541\n",
      "Name: Loneliness, dtype: float64\n",
      "\n",
      "Physics             -0.183991\n",
      "Chemistry           -0.166113\n",
      "Adrenaline sports    0.157511\n",
      "Fun with friends     0.188691\n",
      "Name: Cheating in school, dtype: float64\n",
      "\n",
      "Adrenaline sports   -0.070945\n",
      "Physics             -0.055275\n",
      "Shopping             0.182516\n",
      "Celebrities          0.197471\n",
      "Name: Health, dtype: float64\n",
      "\n",
      "Physics                  -0.090502\n",
      "Science and technology   -0.081437\n",
      "Writing                   0.038633\n",
      "Celebrities               0.075897\n",
      "Name: Changing the past, dtype: float64\n",
      "\n",
      "Science and technology   -0.108852\n",
      "PC                       -0.106269\n",
      "Countryside, outdoors     0.177111\n",
      "Religion                  0.502158\n",
      "Name: God, dtype: float64\n",
      "\n",
      "Art exhibitions      -0.042808\n",
      "Theatre              -0.031223\n",
      "Economy Management    0.086371\n",
      "Active sport          0.091726\n",
      "Name: Dreams, dtype: float64\n",
      "\n",
      "Internet          -0.047681\n",
      "PC                -0.024325\n",
      "Religion           0.213726\n",
      "Art exhibitions    0.229222\n",
      "Name: Charity, dtype: float64\n",
      "\n",
      "Chemistry           -0.065677\n",
      "Mathematics         -0.046350\n",
      "Adrenaline sports    0.246801\n",
      "Fun with friends     0.331441\n",
      "Name: Number of friends, dtype: float64\n",
      "\n",
      "Foreign languages   -0.112720\n",
      "Celebrities         -0.073550\n",
      "Active sport         0.091545\n",
      "Cars                 0.122450\n",
      "Name: Punctuality, dtype: float64\n",
      "\n",
      "Mathematics   -0.125781\n",
      "Physics       -0.125659\n",
      "History        0.019472\n",
      "Shopping       0.043140\n",
      "Name: Lying, dtype: float64\n",
      "\n",
      "Celebrities   -0.112468\n",
      "Shopping      -0.078424\n",
      "Mathematics    0.084235\n",
      "PC             0.086314\n",
      "Name: Waiting, dtype: float64\n",
      "\n",
      "Reading             -0.065493\n",
      "Biology             -0.060835\n",
      "Fun with friends     0.156297\n",
      "Adrenaline sports    0.193882\n",
      "Name: New environment, dtype: float64\n",
      "\n",
      "Cars      -0.181839\n",
      "PC        -0.141836\n",
      "Reading    0.086074\n",
      "Writing    0.155997\n",
      "Name: Mood swings, dtype: float64\n",
      "\n",
      "Physics       -0.108972\n",
      "Mathematics   -0.104224\n",
      "Celebrities    0.163493\n",
      "Shopping       0.315095\n",
      "Name: Appearence and gestures, dtype: float64\n",
      "\n",
      "Gardening           -0.023427\n",
      "Reading             -0.018349\n",
      "Fun with friends     0.200418\n",
      "Adrenaline sports    0.238329\n",
      "Name: Socializing, dtype: float64\n",
      "\n",
      "Biology            -0.069423\n",
      "Medicine           -0.049265\n",
      "Fun with friends    0.071855\n",
      "Celebrities         0.073689\n",
      "Name: Achievements, dtype: float64\n",
      "\n",
      "Adrenaline sports   -0.127506\n",
      "Active sport        -0.097310\n",
      "Physics              0.065432\n",
      "Reading              0.086235\n",
      "Name: Responding to a serious letter, dtype: float64\n",
      "\n",
      "Science and technology   -0.087832\n",
      "Internet                 -0.068839\n",
      "Shopping                  0.166812\n",
      "Dancing                   0.200902\n",
      "Name: Children, dtype: float64\n",
      "\n",
      "Gardening            -0.076762\n",
      "Passive sport        -0.029887\n",
      "Economy Management    0.113676\n",
      "Law                   0.139199\n",
      "Name: Assertiveness, dtype: float64\n",
      "\n",
      "Passive sport           -0.144518\n",
      "Countryside, outdoors   -0.126284\n",
      "Shopping                 0.105622\n",
      "Celebrities              0.148236\n",
      "Name: Getting angry, dtype: float64\n",
      "\n",
      "Religion             -0.076031\n",
      "Reading              -0.062977\n",
      "Shopping              0.191631\n",
      "Economy Management    0.214214\n",
      "Name: Knowing the right people, dtype: float64\n",
      "\n",
      "Adrenaline sports   -0.189188\n",
      "Politics            -0.152561\n",
      "Shopping             0.092553\n",
      "Celebrities          0.104239\n",
      "Name: Public speaking, dtype: float64\n",
      "\n",
      "Cars                -0.094945\n",
      "Adrenaline sports   -0.084371\n",
      "Theatre              0.117118\n",
      "Reading              0.121715\n",
      "Name: Unpopularity, dtype: float64\n",
      "\n",
      "Cars       -0.309359\n",
      "PC         -0.263128\n",
      "Theatre     0.270829\n",
      "Shopping    0.294836\n",
      "Name: Life struggles, dtype: float64\n",
      "\n",
      "Writing              -0.070039\n",
      "Reading              -0.035815\n",
      "Economy Management    0.142099\n",
      "Fun with friends      0.179960\n",
      "Name: Happiness in life, dtype: float64\n",
      "\n",
      "Writing             -0.085804\n",
      "Reading             -0.059519\n",
      "Adrenaline sports    0.288436\n",
      "Active sport         0.315525\n",
      "Name: Energy levels, dtype: float64\n",
      "\n",
      "Shopping            -0.176232\n",
      "Celebrities         -0.128056\n",
      "Cars                 0.177651\n",
      "Adrenaline sports    0.260566\n",
      "Name: Small - big dogs, dtype: float64\n",
      "\n",
      "Reading             -0.150174\n",
      "Theatre             -0.079459\n",
      "Adrenaline sports    0.176608\n",
      "Cars                 0.187264\n",
      "Name: Personality, dtype: float64\n",
      "\n",
      "Cars                    -0.096497\n",
      "PC                      -0.095017\n",
      "Countryside, outdoors    0.147626\n",
      "Reading                  0.159037\n",
      "Name: Finding lost valuables, dtype: float64\n",
      "\n",
      "Physics            -0.137582\n",
      "Chemistry          -0.117516\n",
      "Internet            0.060459\n",
      "Fun with friends    0.110304\n",
      "Name: Getting up, dtype: float64\n",
      "\n",
      "Celebrities         -0.056346\n",
      "Biology             -0.003530\n",
      "Adrenaline sports    0.275688\n",
      "Active sport         0.344139\n",
      "Name: Interests or hobbies, dtype: float64\n",
      "\n",
      "Science and technology   -0.064980\n",
      "PC                       -0.038971\n",
      "Gardening                 0.131332\n",
      "Shopping                  0.151158\n",
      "Name: Parents' advice, dtype: float64\n",
      "\n",
      "Adrenaline sports   -0.102972\n",
      "Cars                -0.069965\n",
      "Writing              0.153328\n",
      "Psychology           0.155674\n",
      "Name: Questionnaires or polls, dtype: float64\n",
      "\n",
      "Gardening   -0.161994\n",
      "Biology     -0.130554\n",
      "PC           0.162518\n",
      "Internet     0.237283\n",
      "Name: Internet usage, dtype: float64\n",
      "\n"
     ]
    }
   ],
   "source": [
    "# Считаем корреляции между целевыми признаками и\n",
    "# признаками, выбранными для предсказания\n",
    "df_compare = df[personality].join(df[hobbies])\n",
    "cor = df_compare.corr(method='pearson')\n",
    "\n",
    "# Выводим два самых коррелирующих и \n",
    "# обратно коррелирующих признака для\n",
    "# каждого хобби\n",
    "for p in personality:\n",
    "    correlations = cor[p][hobbies].sort_values()\n",
    "    print(correlations[:2].append(correlations[-2:]))\n",
    "    print()"
   ]
  },
  {
   "cell_type": "code",
   "execution_count": 6,
   "metadata": {},
   "outputs": [],
   "source": [
    "# Функция для вывода отчета о различных оценках \n",
    "# классификатора на тестовых данных\n",
    "def report_classifier(clf, X_train, y_train, X_test, y_test):\n",
    "    \n",
    "    clf.fit(X_train, y_train)\n",
    "    predictions = clf.predict(X_test)\n",
    "    \n",
    "    recall_sum = 0\n",
    "    precision_sum = 0\n",
    "    accuracy_sum = 0\n",
    "    min_rec = 2.0\n",
    "    max_rec = -2.0\n",
    "    min_pre = 2.0\n",
    "    max_pre = -2.0\n",
    "    min_acc = 2.0\n",
    "    max_acc = -2.0\n",
    "\n",
    "    for truth, prediction in zip(y_test, predictions):\n",
    "        report = classification_report(truth, \n",
    "                                       prediction, \n",
    "                                       output_dict=True, \n",
    "                                       zero_division=0)\n",
    "        if type(report.get('1.0')) == dict:\n",
    "            min_rec = min(min_rec, report['1.0']['recall'])\n",
    "            max_rec = max(max_rec, report['1.0']['recall'])\n",
    "            min_pre = min(min_pre, report['1.0']['precision'])\n",
    "            max_pre = max(max_pre, report['1.0']['precision'])\n",
    "            recall_sum += report['1.0']['recall']\n",
    "            precision_sum += report['1.0']['precision']\n",
    "        min_acc = min(min_acc, report['accuracy'])\n",
    "        max_acc = max(max_acc, report['accuracy'])\n",
    "        accuracy_sum += report['accuracy']\n",
    "\n",
    "    print('avg recall', recall_sum / y_test.shape[0])\n",
    "    print('avg precision', precision_sum / y_test.shape[0])\n",
    "    print('avg accuracy', accuracy_sum / y_test.shape[0])\n",
    "    print()\n",
    "    print('min recall', min_rec)\n",
    "    print('max recall', max_rec)\n",
    "    print()\n",
    "    print('min precision', min_pre)\n",
    "    print('max precision', max_pre)\n",
    "    print()\n",
    "    print('min accuracy', min_acc)\n",
    "    print('max accuracy', max_acc)"
   ]
  },
  {
   "cell_type": "code",
   "execution_count": 7,
   "metadata": {},
   "outputs": [],
   "source": [
    "# Функция для вывода отчета о различных оценках \n",
    "# классификатора на тестовых данных (0 принимается за положительный класс)\n",
    "def report_classifier_neg(clf, X_train, y_train, X_test, y_test):\n",
    "    \n",
    "    clf.fit(X_train, y_train)\n",
    "    predictions = clf.predict(X_test)\n",
    "    \n",
    "    recall_sum = 0\n",
    "    precision_sum = 0\n",
    "    accuracy_sum = 0\n",
    "    min_rec = 2.0\n",
    "    max_rec = -2.0\n",
    "    min_pre = 2.0\n",
    "    max_pre = -2.0\n",
    "    min_acc = 2.0\n",
    "    max_acc = -2.0\n",
    "\n",
    "    for truth, prediction in zip(y_test, predictions):\n",
    "        report = classification_report(truth, \n",
    "                                       prediction, \n",
    "                                       output_dict=True, \n",
    "                                       zero_division=0)\n",
    "        if type(report.get('0.0')) == dict:\n",
    "            min_rec = min(min_rec, report['0.0']['recall'])\n",
    "            max_rec = max(max_rec, report['0.0']['recall'])\n",
    "            min_pre = min(min_pre, report['0.0']['precision'])\n",
    "            max_pre = max(max_pre, report['0.0']['precision'])\n",
    "            recall_sum += report['0.0']['recall']\n",
    "            precision_sum += report['0.0']['precision']\n",
    "        min_acc = min(min_acc, report['accuracy'])\n",
    "        max_acc = max(max_acc, report['accuracy'])\n",
    "        accuracy_sum += report['accuracy']\n",
    "\n",
    "    print('avg recall', recall_sum / y_test.shape[0])\n",
    "    print('avg precision', precision_sum / y_test.shape[0])\n",
    "    print('avg accuracy', accuracy_sum / y_test.shape[0])\n",
    "    print()\n",
    "    print('min recall', min_rec)\n",
    "    print('max recall', max_rec)\n",
    "    print()\n",
    "    print('min precision', min_pre)\n",
    "    print('max precision', max_pre)\n",
    "    print()\n",
    "    print('min accuracy', min_acc)\n",
    "    print('max accuracy', max_acc)"
   ]
  },
  {
   "cell_type": "code",
   "execution_count": 8,
   "metadata": {},
   "outputs": [],
   "source": [
    "# Функция для вывода отчета о различных оценках \n",
    "# на тестовых данных для подхода с нахождением\n",
    "# похожих пользователей косинусным расстоянием\n",
    "def report_similarity(X_train, y_train, X_test, y_test, k=100):\n",
    "\n",
    "    user_similarity = cosine_distances(X_test, X_train)\n",
    "\n",
    "    recall_sum = 0\n",
    "    precision_sum = 0\n",
    "    accuracy_sum = 0\n",
    "    min_rec = 2.0\n",
    "    max_rec = -2.0\n",
    "    min_pre = 2.0\n",
    "    max_pre = -2.0\n",
    "    min_acc = 2.0\n",
    "    max_acc = -2.0\n",
    "\n",
    "    for user_ind in range(X_test.shape[0]):\n",
    "        top_k = np.argpartition(user_similarity[user_ind, :], -k)[-k:]\n",
    "        top_k.sort()\n",
    "        preds = np.round(np.average(y_train[top_k, :], \n",
    "                                    weights=-user_similarity[user_ind, top_k], \n",
    "                                    axis=0))\n",
    "        report = classification_report(y_test[user_ind, :], \n",
    "                                       preds, \n",
    "                                       output_dict=True, \n",
    "                                       zero_division=0)\n",
    "        if type(report.get('1.0')) == dict:\n",
    "            min_rec = min(min_rec, report['1.0']['recall'])\n",
    "            max_rec = max(max_rec, report['1.0']['recall'])\n",
    "            min_pre = min(min_pre, report['1.0']['precision'])\n",
    "            max_pre = max(max_pre, report['1.0']['precision'])\n",
    "            recall_sum += report['1.0']['recall']\n",
    "            precision_sum += report['1.0']['precision']\n",
    "        min_acc = min(min_acc, report['accuracy'])\n",
    "        max_acc = max(max_acc, report['accuracy'])\n",
    "        accuracy_sum += report['accuracy']\n",
    "\n",
    "    print('avg recall', recall_sum / y_test.shape[0])\n",
    "    print('avg precision', precision_sum / y_test.shape[0])\n",
    "    print('avg accuracy', accuracy_sum / y_test.shape[0])\n",
    "    print()\n",
    "    print('min recall', min_rec)\n",
    "    print('max recall', max_rec)\n",
    "    print()\n",
    "    print('min precision', min_pre)\n",
    "    print('max precision', max_pre)\n",
    "    print()\n",
    "    print('min accuracy', min_acc)\n",
    "    print('max accuracy', max_acc)"
   ]
  },
  {
   "cell_type": "code",
   "execution_count": 9,
   "metadata": {},
   "outputs": [
    {
     "name": "stdout",
     "output_type": "stream",
     "text": [
      "Топ-15 выбросов:\n",
      "-1.680 -1.564 -1.547 -1.509 -1.506 -1.479 -1.463 -1.462 -1.459 -1.450 -1.443 -1.442 -1.441 -1.426 -1.423 \n",
      "\n",
      "Количество строк данных после удаления выбросов:\n",
      "991\n"
     ]
    }
   ],
   "source": [
    "# Задаем признаки-вопросы и\n",
    "# целевые признаки, переводим\n",
    "# в нужный формат\n",
    "questions = personality\n",
    "current = hobbies\n",
    "\n",
    "X = df[questions].to_numpy(dtype=np.float64)\n",
    "y = df[current].to_numpy(dtype=np.float64)\n",
    "\n",
    "y[y <= 3] = 0.0\n",
    "y[y > 3] = 1.0\n",
    "\n",
    "# Удаляем из данных строки,\n",
    "# где ответы на все вопросы одинаковые\n",
    "all_hobbies = np.where(np.sum(y, axis=1) == y.shape[1])\n",
    "no_hobbies = np.where(np.sum(y, axis=1) == 0)\n",
    "outliers = np.append(no_hobbies, all_hobbies)\n",
    "\n",
    "X = np.delete(X, outliers, axis=0)\n",
    "y = np.delete(y, outliers, axis=0)\n",
    "\n",
    "# Используем алгоритм локального уровня выброса\n",
    "# для дальнейшей чистки данных\n",
    "lof = LocalOutlierFactor(n_neighbors=10)\n",
    "lof.fit(X)\n",
    "\n",
    "print('Топ-15 выбросов:')\n",
    "for i in range(0, 15):\n",
    "    print(\"%.3f\" % np.sort(lof.negative_outlier_factor_)[i], \n",
    "          end =' ')\n",
    "    \n",
    "outliers = np.where(lof.negative_outlier_factor_ < -1.4)\n",
    "\n",
    "X = np.delete(X, outliers, axis=0)\n",
    "y = np.delete(y, outliers, axis=0)\n",
    "\n",
    "print()\n",
    "print()\n",
    "print('Количество строк данных после удаления выбросов:')\n",
    "print(X.shape[0])"
   ]
  },
  {
   "cell_type": "code",
   "execution_count": 10,
   "metadata": {},
   "outputs": [
    {
     "name": "stdout",
     "output_type": "stream",
     "text": [
      "History [(0.0, 585), (1.0, 406)]\n",
      "Psychology [(0.0, 582), (1.0, 409)]\n",
      "Politics [(0.0, 739), (1.0, 252)]\n",
      "Mathematics [(0.0, 780), (1.0, 211)]\n",
      "Physics [(0.0, 840), (1.0, 151)]\n",
      "Internet [(0.0, 232), (1.0, 759)]\n",
      "PC [(0.0, 588), (1.0, 403)]\n",
      "Economy Management [(0.0, 711), (1.0, 280)]\n",
      "Biology [(0.0, 718), (1.0, 273)]\n",
      "Chemistry [(0.0, 804), (1.0, 187)]\n",
      "Reading [(0.0, 551), (1.0, 440)]\n",
      "Geography [(0.0, 616), (1.0, 375)]\n",
      "Foreign languages [(0.0, 374), (1.0, 617)]\n",
      "Medicine [(0.0, 766), (1.0, 225)]\n",
      "Law [(0.0, 817), (1.0, 174)]\n",
      "Cars [(0.0, 682), (1.0, 309)]\n",
      "Art exhibitions [(0.0, 743), (1.0, 248)]\n",
      "Religion [(0.0, 800), (1.0, 191)]\n",
      "Countryside, outdoors [(0.0, 390), (1.0, 601)]\n",
      "Dancing [(0.0, 744), (1.0, 247)]\n",
      "Musical instruments [(0.0, 744), (1.0, 247)]\n",
      "Writing [(0.0, 845), (1.0, 146)]\n",
      "Passive sport [(0.0, 502), (1.0, 489)]\n",
      "Active sport [(0.0, 503), (1.0, 488)]\n",
      "Gardening [(0.0, 882), (1.0, 109)]\n",
      "Celebrities [(0.0, 793), (1.0, 198)]\n",
      "Shopping [(0.0, 544), (1.0, 447)]\n",
      "Science and technology [(0.0, 564), (1.0, 427)]\n",
      "Theatre [(0.0, 625), (1.0, 366)]\n",
      "Fun with friends [(0.0, 100), (1.0, 891)]\n",
      "Adrenaline sports [(0.0, 619), (1.0, 372)]\n",
      "Pets [(0.0, 484), (1.0, 507)]\n"
     ]
    }
   ],
   "source": [
    "# Выводим количество элементов каждого класса \n",
    "# для каждого целевого признака\n",
    "for i in range(y.shape[1]):\n",
    "    print(current[i], sorted(Counter(y[:, i]).items()))"
   ]
  },
  {
   "cell_type": "code",
   "execution_count": 11,
   "metadata": {},
   "outputs": [],
   "source": [
    "# Разделяем целевые признаки на три подкатегории\n",
    "# по степени сбалансированности классов\n",
    "hobbies_balanced = []\n",
    "hobbies_bias_0 = []\n",
    "hobbies_bias_1 = []\n",
    "balanced_thre = 200\n",
    "\n",
    "for i in range(y.shape[1]):\n",
    "    if abs(Counter(y[:, i])[1.0] - Counter(y[:, i])[0.0]) < balanced_thre:\n",
    "        hobbies_balanced.append(True)\n",
    "        hobbies_bias_0.append(False)\n",
    "        hobbies_bias_1.append(False)\n",
    "    elif Counter(y[:, i])[1.0] - Counter(y[:, i])[0.0] < 0:\n",
    "        hobbies_balanced.append(False)\n",
    "        hobbies_bias_0.append(True)\n",
    "        hobbies_bias_1.append(False)\n",
    "    else:\n",
    "        hobbies_balanced.append(False)\n",
    "        hobbies_bias_0.append(False)\n",
    "        hobbies_bias_1.append(True)"
   ]
  },
  {
   "cell_type": "code",
   "execution_count": 12,
   "metadata": {},
   "outputs": [
    {
     "name": "stdout",
     "output_type": "stream",
     "text": [
      "Сбалансированы: ['History' 'Psychology' 'PC' 'Reading' 'Passive sport' 'Active sport'\n",
      " 'Shopping' 'Science and technology' 'Pets']\n",
      "\n",
      "Предвзяты к 0: ['Politics' 'Mathematics' 'Physics' 'Economy Management' 'Biology'\n",
      " 'Chemistry' 'Geography' 'Medicine' 'Law' 'Cars' 'Art exhibitions'\n",
      " 'Religion' 'Dancing' 'Musical instruments' 'Writing' 'Gardening'\n",
      " 'Celebrities' 'Theatre' 'Adrenaline sports']\n",
      "\n",
      "Предвзяты к 1: ['Internet' 'Foreign languages' 'Countryside, outdoors' 'Fun with friends']\n"
     ]
    }
   ],
   "source": [
    "print('Сбалансированы:', np.array(hobbies)[hobbies_balanced])\n",
    "print()\n",
    "print('Предвзяты к 0:', np.array(hobbies)[hobbies_bias_0])\n",
    "print()\n",
    "print('Предвзяты к 1:', np.array(hobbies)[hobbies_bias_1])"
   ]
  },
  {
   "cell_type": "code",
   "execution_count": 13,
   "metadata": {},
   "outputs": [],
   "source": [
    "y_balanced = y[:, hobbies_balanced]\n",
    "y_bias_0 = y[:, hobbies_bias_0]\n",
    "y_bias_1 = y[:, hobbies_bias_1]"
   ]
  },
  {
   "cell_type": "code",
   "execution_count": 14,
   "metadata": {},
   "outputs": [],
   "source": [
    "def plot_bar(clf, X, y, filename, best_feat_thre=0.02):\n",
    "    clf.fit(X, y)\n",
    "\n",
    "    plt.figure(figsize = (12, 12))\n",
    "    plt.grid()\n",
    "    x_coor = np.arange(0, len(clf.feature_importances_))\n",
    "    plt.bar(x_coor, clf.feature_importances_, color='b')\n",
    "    plt.plot([0, len(clf.feature_importances_)], \n",
    "             [best_feat_thre, best_feat_thre], \n",
    "             'y', \n",
    "             label=best_feat_thre)\n",
    "\n",
    "    plt.ylabel('Оценка')\n",
    "    plt.xlabel('Признак')\n",
    "    plt.legend()\n",
    "    plt.savefig(filename)\n",
    "    best_features = np.where(clf.feature_importances_ >= best_feat_thre)[0]\n",
    "    return best_features"
   ]
  },
  {
   "cell_type": "code",
   "execution_count": 15,
   "metadata": {},
   "outputs": [],
   "source": [
    "clf = RandomForestClassifier(n_estimators=200, \n",
    "                             n_jobs=-1, \n",
    "                             random_state=42)"
   ]
  },
  {
   "cell_type": "code",
   "execution_count": 16,
   "metadata": {},
   "outputs": [
    {
     "data": {
      "image/png": "[encoded data removed]",
      "text/plain": [
       "<Figure size 864x864 with 1 Axes>"
      ]
     },
     "metadata": {
      "needs_background": "light"
     },
     "output_type": "display_data"
    }
   ],
   "source": [
    "# Гистограмма важности признаков при предсказании целевых признаков\n",
    "# из сбалансированного набора\n",
    "best_y_balanced = plot_bar(clf, X, y_balanced, 'Features_y_balanced', 0.02)"
   ]
  },
  {
   "cell_type": "code",
   "execution_count": 17,
   "metadata": {},
   "outputs": [
    {
     "data": {
      "image/png": "[encoded data removed]",
      "text/plain": [
       "<Figure size 864x864 with 1 Axes>"
      ]
     },
     "metadata": {
      "needs_background": "light"
     },
     "output_type": "display_data"
    }
   ],
   "source": [
    "# Гистограмма важности признаков при предсказании целевых признаков\n",
    "# из набора с преобладающим классом 0\n",
    "best_y_bias_0 = plot_bar(clf, X, y_bias_0, 'Features_y_bias_0', 0.02)"
   ]
  },
  {
   "cell_type": "code",
   "execution_count": 18,
   "metadata": {},
   "outputs": [
    {
     "data": {
      "image/png": "[encoded data removed]",
      "text/plain": [
       "<Figure size 864x864 with 1 Axes>"
      ]
     },
     "metadata": {
      "needs_background": "light"
     },
     "output_type": "display_data"
    }
   ],
   "source": [
    "# Гистограмма важности признаков при предсказании целевых признаков\n",
    "# из набора с преобладающим классом 1\n",
    "best_y_bias_1 = plot_bar(clf, X, y_bias_1, 'Features_y_bias_1', 0.02)"
   ]
  },
  {
   "cell_type": "code",
   "execution_count": 19,
   "metadata": {},
   "outputs": [
    {
     "name": "stdout",
     "output_type": "stream",
     "text": [
      "['History' 'Psychology' 'PC' 'Reading' 'Passive sport' 'Active sport'\n",
      " 'Shopping' 'Science and technology' 'Pets']\n"
     ]
    },
    {
     "data": {
      "text/html": [
       "<div>\n",
       "<style scoped>\n",
       "    .dataframe tbody tr th:only-of-type {\n",
       "        vertical-align: middle;\n",
       "    }\n",
       "\n",
       "    .dataframe tbody tr th {\n",
       "        vertical-align: top;\n",
       "    }\n",
       "\n",
       "    .dataframe thead th {\n",
       "        text-align: right;\n",
       "    }\n",
       "</style>\n",
       "<table border=\"1\" class=\"dataframe\">\n",
       "  <thead>\n",
       "    <tr style=\"text-align: right;\">\n",
       "      <th></th>\n",
       "      <th>Daily events</th>\n",
       "      <th>Writing notes</th>\n",
       "      <th>Workaholism</th>\n",
       "      <th>Funniness</th>\n",
       "      <th>Giving</th>\n",
       "      <th>Compassion to animals</th>\n",
       "      <th>Life struggles</th>\n",
       "      <th>Interests or hobbies</th>\n",
       "    </tr>\n",
       "  </thead>\n",
       "  <tbody>\n",
       "    <tr>\n",
       "      <th>0</th>\n",
       "      <td>2.0</td>\n",
       "      <td>5.0</td>\n",
       "      <td>4.0</td>\n",
       "      <td>5.0</td>\n",
       "      <td>4.0</td>\n",
       "      <td>5.0</td>\n",
       "      <td>1.0</td>\n",
       "      <td>3.0</td>\n",
       "    </tr>\n",
       "    <tr>\n",
       "      <th>1</th>\n",
       "      <td>3.0</td>\n",
       "      <td>4.0</td>\n",
       "      <td>5.0</td>\n",
       "      <td>3.0</td>\n",
       "      <td>2.0</td>\n",
       "      <td>4.0</td>\n",
       "      <td>1.0</td>\n",
       "      <td>3.0</td>\n",
       "    </tr>\n",
       "    <tr>\n",
       "      <th>2</th>\n",
       "      <td>1.0</td>\n",
       "      <td>5.0</td>\n",
       "      <td>3.0</td>\n",
       "      <td>2.0</td>\n",
       "      <td>5.0</td>\n",
       "      <td>4.0</td>\n",
       "      <td>4.0</td>\n",
       "      <td>5.0</td>\n",
       "    </tr>\n",
       "    <tr>\n",
       "      <th>3</th>\n",
       "      <td>4.0</td>\n",
       "      <td>4.0</td>\n",
       "      <td>5.0</td>\n",
       "      <td>1.0</td>\n",
       "      <td>1.0</td>\n",
       "      <td>2.0</td>\n",
       "      <td>3.0</td>\n",
       "      <td>3.0</td>\n",
       "    </tr>\n",
       "    <tr>\n",
       "      <th>4</th>\n",
       "      <td>3.0</td>\n",
       "      <td>2.0</td>\n",
       "      <td>3.0</td>\n",
       "      <td>3.0</td>\n",
       "      <td>3.0</td>\n",
       "      <td>3.0</td>\n",
       "      <td>2.0</td>\n",
       "      <td>3.0</td>\n",
       "    </tr>\n",
       "  </tbody>\n",
       "</table>\n",
       "</div>"
      ],
      "text/plain": [
       "   Daily events  Writing notes  Workaholism  Funniness  Giving  \\\n",
       "0           2.0            5.0          4.0        5.0     4.0   \n",
       "1           3.0            4.0          5.0        3.0     2.0   \n",
       "2           1.0            5.0          3.0        2.0     5.0   \n",
       "3           4.0            4.0          5.0        1.0     1.0   \n",
       "4           3.0            2.0          3.0        3.0     3.0   \n",
       "\n",
       "   Compassion to animals  Life struggles  Interests or hobbies  \n",
       "0                    5.0             1.0                   3.0  \n",
       "1                    4.0             1.0                   3.0  \n",
       "2                    4.0             4.0                   5.0  \n",
       "3                    2.0             3.0                   3.0  \n",
       "4                    3.0             2.0                   3.0  "
      ]
     },
     "execution_count": 19,
     "metadata": {},
     "output_type": "execute_result"
    }
   ],
   "source": [
    "# Самые важные признаки, участвующие в принятии \n",
    "# решения классификатором для сбалансированного набора\n",
    "print(np.array(hobbies)[hobbies_balanced])\n",
    "df[questions].iloc[:, best_y_balanced].head()"
   ]
  },
  {
   "cell_type": "code",
   "execution_count": 20,
   "metadata": {},
   "outputs": [
    {
     "name": "stdout",
     "output_type": "stream",
     "text": [
      "['Politics' 'Mathematics' 'Physics' 'Economy Management' 'Biology'\n",
      " 'Chemistry' 'Geography' 'Medicine' 'Law' 'Cars' 'Art exhibitions'\n",
      " 'Religion' 'Dancing' 'Musical instruments' 'Writing' 'Gardening'\n",
      " 'Celebrities' 'Theatre' 'Adrenaline sports']\n"
     ]
    },
    {
     "data": {
      "text/html": [
       "<div>\n",
       "<style scoped>\n",
       "    .dataframe tbody tr th:only-of-type {\n",
       "        vertical-align: middle;\n",
       "    }\n",
       "\n",
       "    .dataframe tbody tr th {\n",
       "        vertical-align: top;\n",
       "    }\n",
       "\n",
       "    .dataframe thead th {\n",
       "        text-align: right;\n",
       "    }\n",
       "</style>\n",
       "<table border=\"1\" class=\"dataframe\">\n",
       "  <thead>\n",
       "    <tr style=\"text-align: right;\">\n",
       "      <th></th>\n",
       "      <th>Daily events</th>\n",
       "      <th>Workaholism</th>\n",
       "      <th>God</th>\n",
       "      <th>Charity</th>\n",
       "      <th>Life struggles</th>\n",
       "      <th>Interests or hobbies</th>\n",
       "    </tr>\n",
       "  </thead>\n",
       "  <tbody>\n",
       "    <tr>\n",
       "      <th>0</th>\n",
       "      <td>2.0</td>\n",
       "      <td>4.0</td>\n",
       "      <td>1.0</td>\n",
       "      <td>2.0</td>\n",
       "      <td>1.0</td>\n",
       "      <td>3.0</td>\n",
       "    </tr>\n",
       "    <tr>\n",
       "      <th>1</th>\n",
       "      <td>3.0</td>\n",
       "      <td>5.0</td>\n",
       "      <td>1.0</td>\n",
       "      <td>1.0</td>\n",
       "      <td>1.0</td>\n",
       "      <td>3.0</td>\n",
       "    </tr>\n",
       "    <tr>\n",
       "      <th>2</th>\n",
       "      <td>1.0</td>\n",
       "      <td>3.0</td>\n",
       "      <td>5.0</td>\n",
       "      <td>3.0</td>\n",
       "      <td>4.0</td>\n",
       "      <td>5.0</td>\n",
       "    </tr>\n",
       "    <tr>\n",
       "      <th>3</th>\n",
       "      <td>4.0</td>\n",
       "      <td>5.0</td>\n",
       "      <td>4.0</td>\n",
       "      <td>3.0</td>\n",
       "      <td>3.0</td>\n",
       "      <td>3.0</td>\n",
       "    </tr>\n",
       "    <tr>\n",
       "      <th>4</th>\n",
       "      <td>3.0</td>\n",
       "      <td>3.0</td>\n",
       "      <td>5.0</td>\n",
       "      <td>3.0</td>\n",
       "      <td>2.0</td>\n",
       "      <td>3.0</td>\n",
       "    </tr>\n",
       "  </tbody>\n",
       "</table>\n",
       "</div>"
      ],
      "text/plain": [
       "   Daily events  Workaholism  God  Charity  Life struggles  \\\n",
       "0           2.0          4.0  1.0      2.0             1.0   \n",
       "1           3.0          5.0  1.0      1.0             1.0   \n",
       "2           1.0          3.0  5.0      3.0             4.0   \n",
       "3           4.0          5.0  4.0      3.0             3.0   \n",
       "4           3.0          3.0  5.0      3.0             2.0   \n",
       "\n",
       "   Interests or hobbies  \n",
       "0                   3.0  \n",
       "1                   3.0  \n",
       "2                   5.0  \n",
       "3                   3.0  \n",
       "4                   3.0  "
      ]
     },
     "execution_count": 20,
     "metadata": {},
     "output_type": "execute_result"
    }
   ],
   "source": [
    "# Самые важные признаки, участвующие в принятии \n",
    "# решения классификатором для набора с преобладающим классом 0\n",
    "print(np.array(hobbies)[hobbies_bias_0])\n",
    "df[questions].iloc[:, best_y_bias_0].head()"
   ]
  },
  {
   "cell_type": "code",
   "execution_count": 21,
   "metadata": {},
   "outputs": [
    {
     "name": "stdout",
     "output_type": "stream",
     "text": [
      "['Internet' 'Foreign languages' 'Countryside, outdoors' 'Fun with friends']\n"
     ]
    },
    {
     "data": {
      "text/html": [
       "<div>\n",
       "<style scoped>\n",
       "    .dataframe tbody tr th:only-of-type {\n",
       "        vertical-align: middle;\n",
       "    }\n",
       "\n",
       "    .dataframe tbody tr th {\n",
       "        vertical-align: top;\n",
       "    }\n",
       "\n",
       "    .dataframe thead th {\n",
       "        text-align: right;\n",
       "    }\n",
       "</style>\n",
       "<table border=\"1\" class=\"dataframe\">\n",
       "  <thead>\n",
       "    <tr style=\"text-align: right;\">\n",
       "      <th></th>\n",
       "      <th>Workaholism</th>\n",
       "      <th>Friends versus money</th>\n",
       "      <th>Number of friends</th>\n",
       "      <th>Socializing</th>\n",
       "      <th>Interests or hobbies</th>\n",
       "    </tr>\n",
       "  </thead>\n",
       "  <tbody>\n",
       "    <tr>\n",
       "      <th>0</th>\n",
       "      <td>4.0</td>\n",
       "      <td>3.0</td>\n",
       "      <td>3</td>\n",
       "      <td>3.0</td>\n",
       "      <td>3.0</td>\n",
       "    </tr>\n",
       "    <tr>\n",
       "      <th>1</th>\n",
       "      <td>5.0</td>\n",
       "      <td>4.0</td>\n",
       "      <td>3</td>\n",
       "      <td>4.0</td>\n",
       "      <td>3.0</td>\n",
       "    </tr>\n",
       "    <tr>\n",
       "      <th>2</th>\n",
       "      <td>3.0</td>\n",
       "      <td>5.0</td>\n",
       "      <td>3</td>\n",
       "      <td>5.0</td>\n",
       "      <td>5.0</td>\n",
       "    </tr>\n",
       "    <tr>\n",
       "      <th>3</th>\n",
       "      <td>5.0</td>\n",
       "      <td>2.0</td>\n",
       "      <td>1</td>\n",
       "      <td>1.0</td>\n",
       "      <td>3.0</td>\n",
       "    </tr>\n",
       "    <tr>\n",
       "      <th>4</th>\n",
       "      <td>3.0</td>\n",
       "      <td>3.0</td>\n",
       "      <td>3</td>\n",
       "      <td>3.0</td>\n",
       "      <td>3.0</td>\n",
       "    </tr>\n",
       "  </tbody>\n",
       "</table>\n",
       "</div>"
      ],
      "text/plain": [
       "   Workaholism  Friends versus money  Number of friends  Socializing  \\\n",
       "0          4.0                   3.0                  3          3.0   \n",
       "1          5.0                   4.0                  3          4.0   \n",
       "2          3.0                   5.0                  3          5.0   \n",
       "3          5.0                   2.0                  1          1.0   \n",
       "4          3.0                   3.0                  3          3.0   \n",
       "\n",
       "   Interests or hobbies  \n",
       "0                   3.0  \n",
       "1                   3.0  \n",
       "2                   5.0  \n",
       "3                   3.0  \n",
       "4                   3.0  "
      ]
     },
     "execution_count": 21,
     "metadata": {},
     "output_type": "execute_result"
    }
   ],
   "source": [
    "# Самые важные признаки, участвующие в принятии \n",
    "# решения классификатором для набора с преобладающим классом 1\n",
    "print(np.array(hobbies)[hobbies_bias_1])\n",
    "df[questions].iloc[:, best_y_bias_1].head()"
   ]
  },
  {
   "cell_type": "code",
   "execution_count": 22,
   "metadata": {
    "scrolled": false
   },
   "outputs": [
    {
     "name": "stdout",
     "output_type": "stream",
     "text": [
      "Люди, которые имеют все популярные хобби сразу: 297\n",
      "Люди, которые не имеют ни одного из популярных хобби: 8\n"
     ]
    }
   ],
   "source": [
    "all_hobbies = np.where(np.sum(y_bias_1, axis=1) == y_bias_1.shape[1])\n",
    "no_hobbies = np.where(np.sum(y_bias_1, axis=1) == 0)\n",
    "print('Люди, которые имеют все популярные хобби сразу:', \n",
    "      len(all_hobbies[0]))\n",
    "print('Люди, которые не имеют ни одного из популярных хобби:', \n",
    "      len(no_hobbies[0]))"
   ]
  },
  {
   "cell_type": "code",
   "execution_count": 23,
   "metadata": {
    "scrolled": true
   },
   "outputs": [
    {
     "name": "stdout",
     "output_type": "stream",
     "text": [
      "Люди, которые имеют все сбалансированные хобби сразу: 1\n",
      "Люди, которые не имеют ни одного из сбалансированных хобби: 8\n"
     ]
    }
   ],
   "source": [
    "all_hobbies = np.where(np.sum(y_balanced, axis=1) == y_balanced.shape[1])\n",
    "no_hobbies = np.where(np.sum(y_balanced, axis=1) == 0)\n",
    "print('Люди, которые имеют все сбалансированные хобби сразу:', \n",
    "      len(all_hobbies[0]))\n",
    "print('Люди, которые не имеют ни одного из сбалансированных хобби:', \n",
    "      len(no_hobbies[0]))"
   ]
  },
  {
   "cell_type": "code",
   "execution_count": 24,
   "metadata": {
    "scrolled": true
   },
   "outputs": [
    {
     "name": "stdout",
     "output_type": "stream",
     "text": [
      "Люди, которые имеют все непопулярные хобби сразу: 0\n",
      "Люди, которые не имеют ни одного из непопулярных хобби: 29\n"
     ]
    }
   ],
   "source": [
    "all_hobbies = np.where(np.sum(y_bias_0, axis=1) == y_bias_0.shape[1])\n",
    "no_hobbies = np.where(np.sum(y_bias_0, axis=1) == 0)\n",
    "print('Люди, которые имеют все непопулярные хобби сразу:', \n",
    "      len(all_hobbies[0]))\n",
    "print('Люди, которые не имеют ни одного из непопулярных хобби:', \n",
    "      len(no_hobbies[0]))"
   ]
  },
  {
   "cell_type": "code",
   "execution_count": 25,
   "metadata": {},
   "outputs": [
    {
     "data": {
      "text/plain": [
       "238"
      ]
     },
     "execution_count": 25,
     "metadata": {},
     "output_type": "execute_result"
    }
   ],
   "source": [
    "# Случайным образом выбирается 80% пользователей, отметивших все популярные хобби сразу,\n",
    "# чтобы сократить их влияние на обучение\n",
    "all_hobbies = np.where(np.sum(y_bias_1, axis=1) == y_bias_1.shape[1])[0]\n",
    "\n",
    "popular_hobbies_fans = np.random.choice(all_hobbies, \n",
    "                                        replace=False, \n",
    "                                        size=int(np.round(0.8*all_hobbies.shape[0])))\n",
    "len(popular_hobbies_fans)"
   ]
  },
  {
   "cell_type": "code",
   "execution_count": 26,
   "metadata": {},
   "outputs": [],
   "source": [
    "X_bias_1 = np.delete(X, popular_hobbies_fans, axis=0)\n",
    "y_bias_1 = np.delete(y_bias_1, popular_hobbies_fans, axis=0)"
   ]
  },
  {
   "cell_type": "code",
   "execution_count": 27,
   "metadata": {},
   "outputs": [],
   "source": [
    "# Разделим выборки на обучающие и тренировочные\n",
    "np.random.seed(42)\n",
    "\n",
    "X_train, y_train, X_test, y_test = it_train(X, \n",
    "                                            y, \n",
    "                                            test_size=0.1)\n",
    "\n",
    "X_balanced_train, y_balanced_train, X_balanced_test, y_balanced_test = it_train(X, \n",
    "                                                                                y_balanced, \n",
    "                                                                                test_size=0.1)\n",
    "\n",
    "X_bias_0_train, y_bias_0_train, X_bias_0_test, y_bias_0_test = it_train(X, \n",
    "                                                                        y_bias_0, \n",
    "                                                                        test_size=0.1)\n",
    "\n",
    "X_bias_1_train, y_bias_1_train, X_bias_1_test, y_bias_1_test = it_train(X_bias_1, \n",
    "                                                                        y_bias_1, \n",
    "                                                                        test_size=0.1)\n",
    "\n",
    "# Стандартизируем данные\n",
    "X_train = preprocessing.scale(X_train)\n",
    "X_test = preprocessing.scale(X_test)\n",
    "\n",
    "X_balanced_train = preprocessing.scale(X_balanced_train)\n",
    "X_balanced_test = preprocessing.scale(X_balanced_test)\n",
    "\n",
    "X_bias_0_train = preprocessing.scale(X_bias_0_train)\n",
    "X_bias_0_test = preprocessing.scale(X_bias_0_test)\n",
    "\n",
    "X_bias_1_train = preprocessing.scale(X_bias_1_train)\n",
    "X_bias_1_test = preprocessing.scale(X_bias_1_test)"
   ]
  },
  {
   "cell_type": "code",
   "execution_count": 28,
   "metadata": {},
   "outputs": [
    {
     "name": "stdout",
     "output_type": "stream",
     "text": [
      "FULL FEATURES REPORT:\n",
      "avg recall 0.3536325328935724\n",
      "avg precision 0.49403462035040985\n",
      "avg accuracy 0.6717575187969925\n",
      "\n",
      "min recall 0.06666666666666667\n",
      "max recall 1.0\n",
      "\n",
      "min precision 0.1\n",
      "max precision 1.0\n",
      "\n",
      "min accuracy 0.25\n",
      "max accuracy 0.875\n",
      "\n",
      "Y_BALANCED REPORT:\n",
      "avg recall 0.2348909657320872\n",
      "avg precision 0.28976412995104583\n",
      "avg accuracy 0.45794392523364463\n",
      "\n",
      "min recall 0.0\n",
      "max recall 1.0\n",
      "\n",
      "min precision 0.0\n",
      "max precision 1.0\n",
      "\n",
      "min accuracy 0.0\n",
      "max accuracy 0.8888888888888888\n"
     ]
    }
   ],
   "source": [
    "# Выведем отчет о качестве предсказаний, основывающихся на\n",
    "# похожести респондентов \n",
    "print('FULL FEATURES REPORT:')\n",
    "report_similarity(X_train, \n",
    "                  y_train, \n",
    "                  X_test, \n",
    "                  y_test, \n",
    "                  k=150)\n",
    "print()\n",
    "print('Y_BALANCED REPORT:')\n",
    "report_similarity(X_balanced_train, \n",
    "                  y_balanced_train, \n",
    "                  X_balanced_test, \n",
    "                  y_balanced_test, \n",
    "                  k=150)"
   ]
  },
  {
   "cell_type": "code",
   "execution_count": 29,
   "metadata": {},
   "outputs": [
    {
     "name": "stdout",
     "output_type": "stream",
     "text": [
      "Y_BALANCED REPORT:\n",
      "avg recall 0.40769915442812643\n",
      "avg precision 0.551390743213173\n",
      "avg accuracy 0.6199376947040499\n",
      "\n",
      "min recall 0.0\n",
      "max recall 1.0\n",
      "\n",
      "min precision 0.0\n",
      "max precision 1.0\n",
      "\n",
      "min accuracy 0.0\n",
      "max accuracy 1.0\n",
      "\n",
      "Y_BIAS_0 REPORT:\n",
      "avg recall 0.04501424501424501\n",
      "avg precision 0.16666666666666666\n",
      "avg accuracy 0.7678812415654515\n",
      "\n",
      "min recall 0.0\n",
      "max recall 1.0\n",
      "\n",
      "min precision 0.0\n",
      "max precision 1.0\n",
      "\n",
      "min accuracy 0.42105263157894735\n",
      "max accuracy 0.9473684210526315\n",
      "\n",
      "Y_BIAS_1 REPORT:\n",
      "avg recall 0.34210526315789475\n",
      "avg precision 0.375\n",
      "avg accuracy 0.6776315789473685\n",
      "\n",
      "min recall 0.0\n",
      "max recall 1.0\n",
      "\n",
      "min precision 0.0\n",
      "max precision 1.0\n",
      "\n",
      "min accuracy 0.25\n",
      "max accuracy 1.0\n"
     ]
    }
   ],
   "source": [
    "# Выведем отчет о качестве предсказаний, основывающихся на\n",
    "# классификаторе случайного леса \"из коробки\"\n",
    "clf = RandomForestClassifier(n_estimators=200, random_state=42, n_jobs=-1)\n",
    "\n",
    "print('Y_BALANCED REPORT:')\n",
    "report_classifier(clf, \n",
    "                  X_balanced_train, \n",
    "                  y_balanced_train, \n",
    "                  X_balanced_test, \n",
    "                  y_balanced_test)\n",
    "print()\n",
    "print('Y_BIAS_0 REPORT:')\n",
    "report_classifier(clf, \n",
    "                  X_bias_0_train, \n",
    "                  y_bias_0_train, \n",
    "                  X_bias_0_test, \n",
    "                  y_bias_0_test)\n",
    "print()\n",
    "print('Y_BIAS_1 REPORT:')\n",
    "report_classifier_neg(clf, \n",
    "                      X_bias_1_train,\n",
    "                      y_bias_1_train,\n",
    "                      X_bias_1_test, \n",
    "                      y_bias_1_test)"
   ]
  },
  {
   "cell_type": "code",
   "execution_count": 30,
   "metadata": {},
   "outputs": [
    {
     "name": "stdout",
     "output_type": "stream",
     "text": [
      "Y_BALANCED REPORT:\n",
      "avg recall 0.5085113484646193\n",
      "avg precision 0.49503782821539827\n",
      "avg accuracy 0.5607476635514018\n",
      "\n",
      "min recall 0.0\n",
      "max recall 1.0\n",
      "\n",
      "min precision 0.0\n",
      "max precision 1.0\n",
      "\n",
      "min accuracy 0.2222222222222222\n",
      "max accuracy 0.8888888888888888\n",
      "\n",
      "Y_BIAS_0 REPORT:\n",
      "avg recall 0.34229443396110065\n",
      "avg precision 0.32214174714174715\n",
      "avg accuracy 0.6644174538911383\n",
      "\n",
      "min recall 0.0\n",
      "max recall 1.0\n",
      "\n",
      "min precision 0.0\n",
      "max precision 1.0\n",
      "\n",
      "min accuracy 0.3684210526315789\n",
      "max accuracy 0.8947368421052632\n",
      "\n",
      "Y_BIAS_1 REPORT:\n",
      "avg recall 0.4122807017543859\n",
      "avg precision 0.41885964912280704\n",
      "avg accuracy 0.6019736842105263\n",
      "\n",
      "min recall 0.0\n",
      "max recall 1.0\n",
      "\n",
      "min precision 0.0\n",
      "max precision 1.0\n",
      "\n",
      "min accuracy 0.0\n",
      "max accuracy 1.0\n"
     ]
    }
   ],
   "source": [
    "# Выведем отчет о качестве предсказаний, основывающихся на\n",
    "# классификаторе полносвязной нейронной сети \"из коробки\"\n",
    "clf = MLPClassifier(solver='lbfgs', random_state=42, max_iter=500)\n",
    "\n",
    "print('Y_BALANCED REPORT:')\n",
    "report_classifier(clf, \n",
    "                  X_balanced_train, \n",
    "                  y_balanced_train, \n",
    "                  X_balanced_test, \n",
    "                  y_balanced_test)\n",
    "print()\n",
    "print('Y_BIAS_0 REPORT:')\n",
    "report_classifier(clf, \n",
    "                  X_bias_0_train, \n",
    "                  y_bias_0_train, \n",
    "                  X_bias_0_test, \n",
    "                  y_bias_0_test)\n",
    "print()\n",
    "print('Y_BIAS_1 REPORT:')\n",
    "report_classifier_neg(clf, \n",
    "                      X_bias_1_train, \n",
    "                      y_bias_1_train, \n",
    "                      X_bias_1_test, \n",
    "                      y_bias_1_test)"
   ]
  },
  {
   "cell_type": "markdown",
   "metadata": {},
   "source": [
    "# Тонкая настройка и выбор классификаторов"
   ]
  },
  {
   "cell_type": "code",
   "execution_count": 31,
   "metadata": {},
   "outputs": [],
   "source": [
    "# Вручную создаем различные оценщики\n",
    "def score_func_avg_acc(y, y_pred):\n",
    "    accuracy_sum = 0\n",
    "    for truth, prediction in zip(y, y_pred):\n",
    "        accuracy_sum += accuracy_score(truth, prediction)\n",
    "    return accuracy_sum / y.shape[0]\n",
    "\n",
    "def score_func_avg_f1_score_pos(y, y_pred):\n",
    "    f1_score_sum = 0\n",
    "    for truth, prediction in zip(y, y_pred):\n",
    "        f1_score_sum += f1_score(truth, \n",
    "                                 prediction, \n",
    "                                 pos_label=1, \n",
    "                                 zero_division=0)\n",
    "    return f1_score_sum / y.shape[0]\n",
    "\n",
    "def score_func_avg_f1_score_neg(y, y_pred):\n",
    "    f1_score_sum = 0\n",
    "    for truth, prediction in zip(y, y_pred):\n",
    "        f1_score_sum += f1_score(truth, \n",
    "                                 prediction, \n",
    "                                 pos_label=0, \n",
    "                                 zero_division=0)\n",
    "    return f1_score_sum / y.shape[0]\n",
    "\n",
    "scorer_avg_acc = make_scorer(score_func_avg_acc)\n",
    "scorer_avg_f1_pos = make_scorer(score_func_avg_f1_score_pos)\n",
    "scorer_avg_f1_neg = make_scorer(score_func_avg_f1_score_neg)"
   ]
  },
  {
   "cell_type": "code",
   "execution_count": 32,
   "metadata": {},
   "outputs": [],
   "source": [
    "# Итератор для разбияния выборки на каждом шаге\n",
    "# кросс-валидации\n",
    "k_fold_stratified = IterativeStratification(n_splits=5, order=1)"
   ]
  },
  {
   "cell_type": "markdown",
   "metadata": {},
   "source": [
    "### Классификатор случайного леса"
   ]
  },
  {
   "cell_type": "code",
   "execution_count": 33,
   "metadata": {},
   "outputs": [],
   "source": [
    "# Задаем классификатор для подбора параметров\n",
    "clf = RandomForestClassifier(n_estimators=200, random_state=42, n_jobs=-1)"
   ]
  },
  {
   "cell_type": "code",
   "execution_count": 34,
   "metadata": {},
   "outputs": [
    {
     "name": "stdout",
     "output_type": "stream",
     "text": [
      "Средняя точность для сбалансированных целевых признаков:\n",
      "Оценки на каждом этапе кросс-валдиации: [0.63545568 0.63428571 0.63004345 0.62614379 0.62698413]\n",
      "Средняя оценка на кросс-валдиации: 0.631\n",
      "\n",
      "Средняя точность для целевых признаков предвзятых к 0:\n",
      "Оценки на каждом этапе кросс-валдиации: [0.76631579 0.77382646 0.74898785 0.75944272 0.76661654]\n",
      "Средняя оценка на кросс-валдиации: 0.763\n",
      "\n",
      "Средняя точность для целевых признаков предвзятых к 1:\n",
      "Оценки на каждом этапе кросс-валдиации: [0.68933824 0.66544118 0.71616541 0.68566176 0.65992647]\n",
      "Средняя оценка на кросс-валдиации: 0.683\n",
      "\n"
     ]
    }
   ],
   "source": [
    "scores = cross_val_score(clf, \n",
    "                         X_balanced_train, \n",
    "                         y_balanced_train, \n",
    "                         cv=k_fold_stratified, \n",
    "                         scoring=scorer_avg_acc)\n",
    "print(\"Средняя точность для сбалансированных целевых признаков:\") \n",
    "print(\"Оценки на каждом этапе кросс-валдиации:\", scores) \n",
    "print(\"Средняя оценка на кросс-валдиации:\", \"%.3f\" % scores.mean())\n",
    "print()\n",
    "\n",
    "scores = cross_val_score(clf, \n",
    "                         X_bias_0_train, \n",
    "                         y_bias_0_train, \n",
    "                         cv=k_fold_stratified, \n",
    "                         scoring=scorer_avg_acc)\n",
    "print(\"Средняя точность для целевых признаков предвзятых к 0:\") \n",
    "print(\"Оценки на каждом этапе кросс-валдиации:\", scores) \n",
    "print(\"Средняя оценка на кросс-валдиации:\", \"%.3f\" % scores.mean())\n",
    "print()\n",
    "\n",
    "scores = cross_val_score(clf, \n",
    "                         X_bias_1_train, \n",
    "                         y_bias_1_train, \n",
    "                         cv=k_fold_stratified, \n",
    "                         scoring=scorer_avg_acc)\n",
    "print(\"Средняя точность для целевых признаков предвзятых к 1:\") \n",
    "print(\"Оценки на каждом этапе кросс-валдиации:\", scores) \n",
    "print(\"Средняя оценка на кросс-валдиации:\", \"%.3f\" % scores.mean())\n",
    "print()"
   ]
  },
  {
   "cell_type": "code",
   "execution_count": 35,
   "metadata": {},
   "outputs": [
    {
     "name": "stdout",
     "output_type": "stream",
     "text": [
      "Средний f1 для сбалансированных целевых признаков:\n",
      "Оценки на каждом этапе кросс-валдиации: [0.46496911 0.43475464 0.45222773 0.39680402 0.46974349]\n",
      "Средняя оценка на кросс-валдиации: 0.444\n",
      "\n",
      "Средний f1 для целевых признаков предвзятых к 0:\n",
      "Оценки на каждом этапе кросс-валдиации: [0.08330308 0.05643702 0.09399943 0.06696644 0.07959257]\n",
      "Средняя оценка на кросс-валдиации: 0.076\n",
      "\n",
      "Средний f1 для целевых признаков предвзятых к 1:\n",
      "Оценки на каждом этапе кросс-валдиации: [0.36519608 0.42843137 0.42769608 0.35308642 0.42238806]\n",
      "Средняя оценка на кросс-валдиации: 0.399\n",
      "\n"
     ]
    }
   ],
   "source": [
    "scores = cross_val_score(clf, \n",
    "                         X_balanced_train, \n",
    "                         y_balanced_train, \n",
    "                         cv=k_fold_stratified, \n",
    "                         scoring=scorer_avg_f1_pos)\n",
    "print(\"Средний f1 для сбалансированных целевых признаков:\") \n",
    "print(\"Оценки на каждом этапе кросс-валдиации:\", scores) \n",
    "print(\"Средняя оценка на кросс-валдиации:\", \"%.3f\" % scores.mean())\n",
    "print()\n",
    "\n",
    "scores = cross_val_score(clf, \n",
    "                         X_bias_0_train, \n",
    "                         y_bias_0_train, \n",
    "                         cv=k_fold_stratified, \n",
    "                         scoring=scorer_avg_f1_pos)\n",
    "print(\"Средний f1 для целевых признаков предвзятых к 0:\") \n",
    "print(\"Оценки на каждом этапе кросс-валдиации:\", scores) \n",
    "print(\"Средняя оценка на кросс-валдиации:\", \"%.3f\" % scores.mean())\n",
    "print()\n",
    "\n",
    "scores = cross_val_score(clf, \n",
    "                         X_bias_1_train, \n",
    "                         y_bias_1_train, \n",
    "                         cv=k_fold_stratified, \n",
    "                         scoring=scorer_avg_f1_neg)\n",
    "print(\"Средний f1 для целевых признаков предвзятых к 1:\") \n",
    "print(\"Оценки на каждом этапе кросс-валдиации:\", scores) \n",
    "print(\"Средняя оценка на кросс-валдиации:\", \"%.3f\" % scores.mean())\n",
    "print()"
   ]
  },
  {
   "cell_type": "code",
   "execution_count": 36,
   "metadata": {},
   "outputs": [],
   "source": [
    "# Задаем варианты гиперпараметров, которые\n",
    "# будут подбираться для классификаторов\n",
    "params_to_test = {\n",
    "    'criterion':['gini', 'entropy'],\n",
    "    'max_depth':[*np.arange(10, 16), None],\n",
    "    'min_samples_leaf':np.arange(1, 4),\n",
    "    'min_samples_split':[2, 3, 5, 6],\n",
    "    'max_features':['sqrt', 'log2', None],\n",
    "    'class_weight':[None, 'balanced'],\n",
    "}"
   ]
  },
  {
   "cell_type": "code",
   "execution_count": 37,
   "metadata": {},
   "outputs": [
    {
     "name": "stdout",
     "output_type": "stream",
     "text": [
      "Fitting 5 folds for each of 1008 candidates, totalling 5040 fits\n"
     ]
    },
    {
     "data": {
      "text/plain": [
       "RandomForestClassifier(class_weight='balanced', criterion='entropy',\n",
       "                       max_depth=10, max_features=None, min_samples_split=6,\n",
       "                       n_estimators=200, n_jobs=-1, random_state=42)"
      ]
     },
     "execution_count": 37,
     "metadata": {},
     "output_type": "execute_result"
    }
   ],
   "source": [
    "grid_search = GridSearchCV(clf, \n",
    "                           param_grid=params_to_test, \n",
    "                           cv=k_fold_stratified, \n",
    "                           scoring=scorer_avg_f1_pos,\n",
    "                           verbose=1)\n",
    "grid_search.fit(X_balanced_train, y_balanced_train)\n",
    "clf_tuned_balanced = grid_search.best_estimator_\n",
    "grid_search.best_estimator_"
   ]
  },
  {
   "cell_type": "code",
   "execution_count": 38,
   "metadata": {},
   "outputs": [
    {
     "name": "stdout",
     "output_type": "stream",
     "text": [
      "Fitting 5 folds for each of 1008 candidates, totalling 5040 fits\n"
     ]
    },
    {
     "data": {
      "text/plain": [
       "RandomForestClassifier(class_weight='balanced', criterion='entropy',\n",
       "                       max_depth=10, max_features=None, min_samples_leaf=3,\n",
       "                       n_estimators=200, n_jobs=-1, random_state=42)"
      ]
     },
     "execution_count": 38,
     "metadata": {},
     "output_type": "execute_result"
    }
   ],
   "source": [
    "grid_search = GridSearchCV(clf, \n",
    "                           param_grid=params_to_test, \n",
    "                           cv=k_fold_stratified, \n",
    "                           scoring=scorer_avg_f1_pos,\n",
    "                           verbose=1)\n",
    "grid_search.fit(X_bias_0_train, y_bias_0_train)\n",
    "clf_tuned_bias_0 = grid_search.best_estimator_\n",
    "grid_search.best_estimator_"
   ]
  },
  {
   "cell_type": "code",
   "execution_count": 39,
   "metadata": {},
   "outputs": [
    {
     "name": "stdout",
     "output_type": "stream",
     "text": [
      "Fitting 5 folds for each of 1008 candidates, totalling 5040 fits\n"
     ]
    },
    {
     "data": {
      "text/plain": [
       "RandomForestClassifier(max_depth=10, max_features=None, min_samples_split=5,\n",
       "                       n_estimators=200, n_jobs=-1, random_state=42)"
      ]
     },
     "execution_count": 39,
     "metadata": {},
     "output_type": "execute_result"
    }
   ],
   "source": [
    "grid_search = GridSearchCV(clf, \n",
    "                           param_grid=params_to_test, \n",
    "                           cv=k_fold_stratified, \n",
    "                           scoring=scorer_avg_f1_neg,\n",
    "                           verbose=1)\n",
    "grid_search.fit(X_bias_1_train, y_bias_1_train)\n",
    "clf_tuned_bias_1 = grid_search.best_estimator_\n",
    "grid_search.best_estimator_"
   ]
  },
  {
   "cell_type": "code",
   "execution_count": 40,
   "metadata": {},
   "outputs": [
    {
     "name": "stdout",
     "output_type": "stream",
     "text": [
      "Средняя точность для сбалансированных целевых признаков:\n",
      "Оценки на каждом этапе кросс-валдиации: [0.61296296 0.63267974 0.62901235 0.63527935 0.60326428]\n",
      "Средняя оценка на кросс-валдиации: 0.623\n",
      "\n",
      "Средний f1 для сбалансированных целевых признаков:\n",
      "Оценки на каждом этапе кросс-валдиации: [0.51054414 0.55269764 0.49535298 0.52183414 0.52418737]\n",
      "Средняя оценка на кросс-валдиации: 0.521\n"
     ]
    }
   ],
   "source": [
    "# Проверяем оценку классификатора с подобранными параметрами\n",
    "# на кросс-валидации для сбалансированного набора\n",
    "scores = cross_val_score(clf_tuned_balanced, \n",
    "                         X_balanced_train, \n",
    "                         y_balanced_train, \n",
    "                         cv=k_fold_stratified, \n",
    "                         scoring=scorer_avg_acc)\n",
    "print(\"Средняя точность для сбалансированных целевых признаков:\") \n",
    "print(\"Оценки на каждом этапе кросс-валдиации:\", scores) \n",
    "print(\"Средняя оценка на кросс-валдиации:\", \"%.3f\" % scores.mean())\n",
    "print()\n",
    "\n",
    "scores = cross_val_score(clf_tuned_balanced, \n",
    "                         X_balanced_train, \n",
    "                         y_balanced_train, \n",
    "                         cv=k_fold_stratified, \n",
    "                         scoring=scorer_avg_f1_pos)\n",
    "print(\"Средний f1 для сбалансированных целевых признаков:\")\n",
    "print(\"Оценки на каждом этапе кросс-валдиации:\", scores) \n",
    "print(\"Средняя оценка на кросс-валдиации:\", \"%.3f\" % scores.mean())"
   ]
  },
  {
   "cell_type": "code",
   "execution_count": 41,
   "metadata": {},
   "outputs": [
    {
     "name": "stdout",
     "output_type": "stream",
     "text": [
      "Средняя точность для целевых признаков предвзятых к 0:\n",
      "Оценки на каждом этапе кросс-валдиации: [0.64992481 0.63458647 0.65022556 0.67849624 0.66848155]\n",
      "Средняя оценка на кросс-валдиации: 0.656\n",
      "\n",
      "Средний f1 для целевых признаков предвзятых к 0:\n",
      "Оценки на каждом этапе кросс-валдиации: [0.35562384 0.28686805 0.34949644 0.29429076 0.2901868 ]\n",
      "Средняя оценка на кросс-валдиации: 0.315\n"
     ]
    }
   ],
   "source": [
    "# Проверяем оценку классификатора с подобранными параметрами\n",
    "# на кросс-валидации для набора с преобладающим классом 0\n",
    "scores = cross_val_score(clf_tuned_bias_0, \n",
    "                         X_bias_0_train, \n",
    "                         y_bias_0_train, \n",
    "                         cv=k_fold_stratified, \n",
    "                         scoring=scorer_avg_acc)\n",
    "print(\"Средняя точность для целевых признаков предвзятых к 0:\") \n",
    "print(\"Оценки на каждом этапе кросс-валдиации:\", scores) \n",
    "print(\"Средняя оценка на кросс-валдиации:\", \"%.3f\" % scores.mean())\n",
    "print()\n",
    "\n",
    "scores = cross_val_score(clf_tuned_bias_0, \n",
    "                         X_bias_0_train, \n",
    "                         y_bias_0_train, \n",
    "                         cv=k_fold_stratified, \n",
    "                         scoring=scorer_avg_f1_pos)\n",
    "print(\"Средний f1 для целевых признаков предвзятых к 0:\") \n",
    "print(\"Оценки на каждом этапе кросс-валдиации:\", scores) \n",
    "print(\"Средняя оценка на кросс-валдиации:\", \"%.3f\" % scores.mean())"
   ]
  },
  {
   "cell_type": "code",
   "execution_count": 42,
   "metadata": {},
   "outputs": [
    {
     "name": "stdout",
     "output_type": "stream",
     "text": [
      "Средняя точность для целевых признаков предвзятых к 1:\n",
      "Оценки на каждом этапе кросс-валдиации: [0.69301471 0.6875     0.69360902 0.65992647 0.66727941]\n",
      "Средняя оценка на кросс-валдиации: 0.680\n",
      "\n",
      "Средний f1 для целевых признаков предвзятых к 1:\n",
      "Оценки на каждом этапе кросс-валдиации: [0.39828431 0.40465686 0.38897243 0.40686275 0.43970588]\n",
      "Средняя оценка на кросс-валдиации: 0.408\n"
     ]
    }
   ],
   "source": [
    "# Проверяем оценку классификатора с подобранными параметрами\n",
    "# на кросс-валидации для набора с преобладающим классом 1\n",
    "scores = cross_val_score(clf_tuned_bias_1, \n",
    "                         X_bias_1_train, \n",
    "                         y_bias_1_train, \n",
    "                         cv=k_fold_stratified, \n",
    "                         scoring=scorer_avg_acc)\n",
    "print(\"Средняя точность для целевых признаков предвзятых к 1:\") \n",
    "print(\"Оценки на каждом этапе кросс-валдиации:\", scores) \n",
    "print(\"Средняя оценка на кросс-валдиации:\", \"%.3f\" % scores.mean())\n",
    "print()\n",
    "\n",
    "scores = cross_val_score(clf_tuned_bias_1, \n",
    "                         X_bias_1_train, \n",
    "                         y_bias_1_train, \n",
    "                         cv=k_fold_stratified, \n",
    "                         scoring=scorer_avg_f1_neg)\n",
    "print(\"Средний f1 для целевых признаков предвзятых к 1:\") \n",
    "print(\"Оценки на каждом этапе кросс-валдиации:\", scores) \n",
    "print(\"Средняя оценка на кросс-валдиации:\", \"%.3f\" % scores.mean())"
   ]
  },
  {
   "cell_type": "markdown",
   "metadata": {},
   "source": [
    "### Классификатор на основе полносвязной нейронной сети"
   ]
  },
  {
   "cell_type": "code",
   "execution_count": 43,
   "metadata": {},
   "outputs": [],
   "source": [
    "# Задаем классификатор для подбора параметров\n",
    "clf_mlp = MLPClassifier(random_state=42, \n",
    "                        max_iter=1000,\n",
    "                        learning_rate_init=0.02, \n",
    "                        early_stopping=True, \n",
    "                        n_iter_no_change=50)"
   ]
  },
  {
   "cell_type": "code",
   "execution_count": 44,
   "metadata": {},
   "outputs": [
    {
     "name": "stdout",
     "output_type": "stream",
     "text": [
      "Средняя точность для сбалансированных целевых признаков:\n",
      "Оценки на каждом этапе кросс-валдиации: [0.60640301 0.6007326  0.61079724 0.61581921 0.60688759]\n",
      "Средняя оценка на кросс-валдиации: 0.608\n",
      "\n",
      "Средняя точность для целевых признаков предвзятых к 0:\n",
      "Оценки на каждом этапе кросс-валдиации: [0.76270677 0.73252804 0.75232198 0.74593892 0.77602975]\n",
      "Средняя оценка на кросс-валдиации: 0.754\n",
      "\n",
      "Средняя точность для целевых признаков предвзятых к 1:\n",
      "Оценки на каждом этапе кросс-валдиации: [0.66021127 0.65073529 0.64849624 0.67105263 0.64285714]\n",
      "Средняя оценка на кросс-валдиации: 0.655\n",
      "\n"
     ]
    }
   ],
   "source": [
    "scores = cross_val_score(clf_mlp, \n",
    "                         X_balanced_train, \n",
    "                         y_balanced_train, \n",
    "                         cv=k_fold_stratified, \n",
    "                         scoring=scorer_avg_acc,\n",
    "                         n_jobs=-1)\n",
    "print(\"Средняя точность для сбалансированных целевых признаков:\") \n",
    "print(\"Оценки на каждом этапе кросс-валдиации:\", scores) \n",
    "print(\"Средняя оценка на кросс-валдиации:\", \"%.3f\" % scores.mean())\n",
    "print()\n",
    "\n",
    "scores = cross_val_score(clf_mlp, \n",
    "                         X_bias_0_train, \n",
    "                         y_bias_0_train, \n",
    "                         cv=k_fold_stratified, \n",
    "                         scoring=scorer_avg_acc,\n",
    "                         n_jobs=-1)\n",
    "print(\"Средняя точность для целевых признаков предвзятых к 0:\") \n",
    "print(\"Оценки на каждом этапе кросс-валдиации:\", scores) \n",
    "print(\"Средняя оценка на кросс-валдиации:\", \"%.3f\" % scores.mean())\n",
    "print()\n",
    "\n",
    "scores = cross_val_score(clf_mlp, \n",
    "                         X_bias_1_train, \n",
    "                         y_bias_1_train, \n",
    "                         cv=k_fold_stratified, \n",
    "                         scoring=scorer_avg_acc,\n",
    "                         n_jobs=-1)\n",
    "print(\"Средняя точность для целевых признаков предвзятых к 1:\") \n",
    "print(\"Оценки на каждом этапе кросс-валдиации:\", scores) \n",
    "print(\"Средняя оценка на кросс-валдиации:\", \"%.3f\" % scores.mean())\n",
    "print()"
   ]
  },
  {
   "cell_type": "code",
   "execution_count": 45,
   "metadata": {},
   "outputs": [
    {
     "name": "stdout",
     "output_type": "stream",
     "text": [
      "Средний f1 для сбалансированных целевых признаков:\n",
      "Оценки на каждом этапе кросс-валдиации: [0.49882667 0.48800644 0.48165266 0.51765606 0.50521346]\n",
      "Средняя оценка на кросс-валдиации: 0.498\n",
      "\n",
      "Средний f1 для целевых признаков предвзятых к 0:\n",
      "Оценки на каждом этапе кросс-валдиации: [0.30339703 0.25774111 0.25412546 0.24867019 0.09363814]\n",
      "Средняя оценка на кросс-валдиации: 0.232\n",
      "\n",
      "Средний f1 для целевых признаков предвзятых к 1:\n",
      "Оценки на каждом этапе кросс-валдиации: [0.44264706 0.35984848 0.468037   0.46652661 0.42562189]\n",
      "Средняя оценка на кросс-валдиации: 0.433\n",
      "\n"
     ]
    }
   ],
   "source": [
    "scores = cross_val_score(clf_mlp, \n",
    "                         X_balanced_train, \n",
    "                         y_balanced_train, \n",
    "                         cv=k_fold_stratified, \n",
    "                         scoring=scorer_avg_f1_pos,\n",
    "                         n_jobs=-1)\n",
    "print(\"Средний f1 для сбалансированных целевых признаков:\") \n",
    "print(\"Оценки на каждом этапе кросс-валдиации:\", scores) \n",
    "print(\"Средняя оценка на кросс-валдиации:\", \"%.3f\" % scores.mean())\n",
    "print()\n",
    "\n",
    "scores = cross_val_score(clf_mlp, \n",
    "                         X_bias_0_train, \n",
    "                         y_bias_0_train, \n",
    "                         cv=k_fold_stratified, \n",
    "                         scoring=scorer_avg_f1_pos,\n",
    "                         n_jobs=-1)\n",
    "print(\"Средний f1 для целевых признаков предвзятых к 0:\") \n",
    "print(\"Оценки на каждом этапе кросс-валдиации:\", scores) \n",
    "print(\"Средняя оценка на кросс-валдиации:\", \"%.3f\" % scores.mean())\n",
    "print()\n",
    "\n",
    "scores = cross_val_score(clf_mlp, \n",
    "                         X_bias_1_train, \n",
    "                         y_bias_1_train, \n",
    "                         cv=k_fold_stratified, \n",
    "                         scoring=scorer_avg_f1_neg,\n",
    "                         n_jobs=-1)\n",
    "print(\"Средний f1 для целевых признаков предвзятых к 1:\") \n",
    "print(\"Оценки на каждом этапе кросс-валдиации:\", scores) \n",
    "print(\"Средняя оценка на кросс-валдиации:\", \"%.3f\" % scores.mean())\n",
    "print()"
   ]
  },
  {
   "cell_type": "code",
   "execution_count": 46,
   "metadata": {},
   "outputs": [],
   "source": [
    "# Задаем варианты гиперпараметров, которые\n",
    "# будут подбираться для классификаторов\n",
    "parameter_space = {\n",
    "    'hidden_layer_sizes': [(50,), \n",
    "                           (100, ), \n",
    "                           (100, 100,), \n",
    "                           (120, 120), \n",
    "                           (100, 50, 50), \n",
    "                           (150, 150), \n",
    "                           (150, 120)],\n",
    "    'activation': ['logistic', 'tanh', 'relu'],\n",
    "    'solver': ['lbfgs', 'adam'],\n",
    "    'alpha': [0.0001, 0.01, 0.04, 0.05, 0.06, 0.1],\n",
    "}"
   ]
  },
  {
   "cell_type": "code",
   "execution_count": 47,
   "metadata": {},
   "outputs": [
    {
     "name": "stdout",
     "output_type": "stream",
     "text": [
      "Fitting 5 folds for each of 252 candidates, totalling 1260 fits\n"
     ]
    },
    {
     "data": {
      "text/plain": [
       "MLPClassifier(activation='tanh', alpha=0.06, early_stopping=True,\n",
       "              hidden_layer_sizes=(100, 50, 50), learning_rate_init=0.02,\n",
       "              max_iter=1000, n_iter_no_change=50, random_state=42)"
      ]
     },
     "execution_count": 47,
     "metadata": {},
     "output_type": "execute_result"
    }
   ],
   "source": [
    "grid_search = GridSearchCV(clf_mlp, \n",
    "                           param_grid=parameter_space, \n",
    "                           cv=k_fold_stratified, \n",
    "                           scoring=scorer_avg_f1_pos,\n",
    "                           verbose=1,\n",
    "                           n_jobs=-1)\n",
    "grid_search.fit(X_balanced_train, y_balanced_train)\n",
    "clf_mlp_tuned_balanced = grid_search.best_estimator_\n",
    "grid_search.best_estimator_"
   ]
  },
  {
   "cell_type": "code",
   "execution_count": 48,
   "metadata": {},
   "outputs": [
    {
     "name": "stdout",
     "output_type": "stream",
     "text": [
      "Fitting 5 folds for each of 252 candidates, totalling 1260 fits\n"
     ]
    },
    {
     "data": {
      "text/plain": [
       "MLPClassifier(alpha=0.01, early_stopping=True, learning_rate_init=0.02,\n",
       "              max_iter=1000, n_iter_no_change=50, random_state=42,\n",
       "              solver='lbfgs')"
      ]
     },
     "execution_count": 48,
     "metadata": {},
     "output_type": "execute_result"
    }
   ],
   "source": [
    "grid_search = GridSearchCV(clf_mlp, \n",
    "                           param_grid=parameter_space, \n",
    "                           cv=k_fold_stratified, \n",
    "                           scoring=scorer_avg_f1_pos,\n",
    "                           verbose=1,\n",
    "                           n_jobs=-1)\n",
    "grid_search.fit(X_bias_0_train, y_bias_0_train)\n",
    "clf_mlp_tuned_bias_0 = grid_search.best_estimator_\n",
    "grid_search.best_estimator_"
   ]
  },
  {
   "cell_type": "code",
   "execution_count": 49,
   "metadata": {},
   "outputs": [
    {
     "name": "stdout",
     "output_type": "stream",
     "text": [
      "Fitting 5 folds for each of 252 candidates, totalling 1260 fits\n"
     ]
    },
    {
     "data": {
      "text/plain": [
       "MLPClassifier(alpha=0.1, early_stopping=True, hidden_layer_sizes=(150, 120),\n",
       "              learning_rate_init=0.02, max_iter=1000, n_iter_no_change=50,\n",
       "              random_state=42)"
      ]
     },
     "execution_count": 49,
     "metadata": {},
     "output_type": "execute_result"
    }
   ],
   "source": [
    "grid_search = GridSearchCV(clf_mlp, \n",
    "                           param_grid=parameter_space, \n",
    "                           cv=k_fold_stratified, \n",
    "                           scoring=scorer_avg_f1_neg,\n",
    "                           verbose=1,\n",
    "                           n_jobs=-1)\n",
    "grid_search.fit(X_bias_1_train, y_bias_1_train)\n",
    "clf_mlp_tuned_bias_1 = grid_search.best_estimator_\n",
    "grid_search.best_estimator_"
   ]
  },
  {
   "cell_type": "code",
   "execution_count": 50,
   "metadata": {},
   "outputs": [
    {
     "name": "stdout",
     "output_type": "stream",
     "text": [
      "Средняя точность для сбалансированных целевых признаков:\n",
      "Оценки на каждом этапе кросс-валдиации: [0.61016949 0.62590401 0.61757106 0.58739076 0.60401891]\n",
      "Средняя оценка на кросс-валдиации: 0.609\n",
      "\n",
      "Средний f1 для сбалансированных целевых признаков:\n",
      "Оценки на каждом этапе кросс-валдиации: [0.46550214 0.50867296 0.4989153  0.47313023 0.45882501]\n",
      "Средняя оценка на кросс-валдиации: 0.481\n"
     ]
    }
   ],
   "source": [
    "# Проверяем оценку классификатора с подобранными параметрами\n",
    "# на кросс-валидации для сбалансированного набора\n",
    "scores = cross_val_score(clf_mlp_tuned_balanced, \n",
    "                         X_balanced_train, \n",
    "                         y_balanced_train, \n",
    "                         cv=k_fold_stratified, \n",
    "                         scoring=scorer_avg_acc,\n",
    "                         n_jobs=-1)\n",
    "print(\"Средняя точность для сбалансированных целевых признаков:\") \n",
    "print(\"Оценки на каждом этапе кросс-валдиации:\", scores) \n",
    "print(\"Средняя оценка на кросс-валдиации:\", \"%.3f\" % scores.mean())\n",
    "print()\n",
    "\n",
    "scores = cross_val_score(clf_mlp_tuned_balanced, \n",
    "                         X_balanced_train, \n",
    "                         y_balanced_train, \n",
    "                         cv=k_fold_stratified, \n",
    "                         scoring=scorer_avg_f1_pos,\n",
    "                         n_jobs=-1)\n",
    "print(\"Средний f1 для сбалансированных целевых признаков:\")\n",
    "print(\"Оценки на каждом этапе кросс-валдиации:\", scores) \n",
    "print(\"Средняя оценка на кросс-валдиации:\", \"%.3f\" % scores.mean())"
   ]
  },
  {
   "cell_type": "code",
   "execution_count": 51,
   "metadata": {},
   "outputs": [
    {
     "name": "stdout",
     "output_type": "stream",
     "text": [
      "Средняя точность для целевых признаков предвзятых к 0:\n",
      "Оценки на каждом этапе кросс-валдиации: [0.67836257 0.68269812 0.69214937 0.67729323 0.68842105]\n",
      "Средняя оценка на кросс-валдиации: 0.684\n",
      "\n",
      "Средний f1 для целевых признаков предвзятых к 0:\n",
      "Оценки на каждом этапе кросс-валдиации: [0.31669615 0.31905965 0.31109788 0.28879266 0.31654989]\n",
      "Средняя оценка на кросс-валдиации: 0.310\n"
     ]
    }
   ],
   "source": [
    "# Проверяем оценку классификатора с подобранными параметрами\n",
    "# на кросс-валидации для набора с преобладающим классом 0\n",
    "scores = cross_val_score(clf_mlp_tuned_bias_0, \n",
    "                         X_bias_0_train, \n",
    "                         y_bias_0_train, \n",
    "                         cv=k_fold_stratified, \n",
    "                         scoring=scorer_avg_acc,\n",
    "                         n_jobs=-1)\n",
    "print(\"Средняя точность для целевых признаков предвзятых к 0:\") \n",
    "print(\"Оценки на каждом этапе кросс-валдиации:\", scores) \n",
    "print(\"Средняя оценка на кросс-валдиации:\", \"%.3f\" % scores.mean())\n",
    "print()\n",
    "\n",
    "scores = cross_val_score(clf_mlp_tuned_bias_0, \n",
    "                         X_bias_0_train, \n",
    "                         y_bias_0_train, \n",
    "                         cv=k_fold_stratified, \n",
    "                         scoring=scorer_avg_f1_pos,\n",
    "                         n_jobs=-1)\n",
    "print(\"Средний f1 для целевых признаков предвзятых к 0:\") \n",
    "print(\"Оценки на каждом этапе кросс-валдиации:\", scores) \n",
    "print(\"Средняя оценка на кросс-валдиации:\", \"%.3f\" % scores.mean())"
   ]
  },
  {
   "cell_type": "code",
   "execution_count": 52,
   "metadata": {},
   "outputs": [
    {
     "name": "stdout",
     "output_type": "stream",
     "text": [
      "Средняя точность для целевых признаков предвзятых к 1:\n",
      "Оценки на каждом этапе кросс-валдиации: [0.66729323 0.62683824 0.63419118 0.65217391 0.64738806]\n",
      "Средняя оценка на кросс-валдиации: 0.646\n",
      "\n",
      "Средний f1 для целевых признаков предвзятых к 1:\n",
      "Оценки на каждом этапе кросс-валдиации: [0.47259259 0.46111111 0.47712895 0.47205882 0.48515815]\n",
      "Средняя оценка на кросс-валдиации: 0.474\n"
     ]
    }
   ],
   "source": [
    "# Проверяем оценку классификатора с подобранными параметрами\n",
    "# на кросс-валидации для набора с преобладающим классом 1\n",
    "scores = cross_val_score(clf_mlp_tuned_bias_1, \n",
    "                         X_bias_1_train, \n",
    "                         y_bias_1_train, \n",
    "                         cv=k_fold_stratified, \n",
    "                         scoring=scorer_avg_acc,\n",
    "                         n_jobs=-1)\n",
    "print(\"Средняя точность для целевых признаков предвзятых к 1:\") \n",
    "print(\"Оценки на каждом этапе кросс-валдиации:\", scores) \n",
    "print(\"Средняя оценка на кросс-валдиации:\", \"%.3f\" % scores.mean())\n",
    "print()\n",
    "\n",
    "scores = cross_val_score(clf_mlp_tuned_bias_1, \n",
    "                         X_bias_1_train, \n",
    "                         y_bias_1_train, \n",
    "                         cv=k_fold_stratified, \n",
    "                         scoring=scorer_avg_f1_neg,\n",
    "                         n_jobs=-1)\n",
    "print(\"Средний f1 для целевых признаков предвзятых к 1:\") \n",
    "print(\"Оценки на каждом этапе кросс-валдиации:\", scores) \n",
    "print(\"Средняя оценка на кросс-валдиации:\", \"%.3f\" % scores.mean())"
   ]
  },
  {
   "cell_type": "markdown",
   "metadata": {},
   "source": [
    "#### Отчеты о работе классификатора случайный лес на тестовых данных после подбора параметров для каждой из категорий целевых признаков"
   ]
  },
  {
   "cell_type": "code",
   "execution_count": 53,
   "metadata": {
    "scrolled": false
   },
   "outputs": [
    {
     "name": "stdout",
     "output_type": "stream",
     "text": [
      "Классификатор без тонкой настройки:\n",
      "avg recall 0.40769915442812643\n",
      "avg precision 0.551390743213173\n",
      "avg accuracy 0.6199376947040499\n",
      "\n",
      "min recall 0.0\n",
      "max recall 1.0\n",
      "\n",
      "min precision 0.0\n",
      "max precision 1.0\n",
      "\n",
      "min accuracy 0.0\n",
      "max accuracy 1.0\n",
      "\n",
      "Классификатор с подбором гиперпараметров:\n",
      "avg recall 0.542545616377392\n",
      "avg precision 0.5562305295950154\n",
      "avg accuracy 0.6053997923156802\n",
      "\n",
      "min recall 0.0\n",
      "max recall 1.0\n",
      "\n",
      "min precision 0.0\n",
      "max precision 1.0\n",
      "\n",
      "min accuracy 0.1111111111111111\n",
      "max accuracy 1.0\n"
     ]
    }
   ],
   "source": [
    "print(\"Классификатор без тонкой настройки:\")\n",
    "report_classifier(clf, \n",
    "                  X_balanced_train, \n",
    "                  y_balanced_train, \n",
    "                  X_balanced_test, \n",
    "                  y_balanced_test)\n",
    "print()\n",
    "\n",
    "print(\"Классификатор с подбором гиперпараметров:\")\n",
    "report_classifier(clf_tuned_balanced, \n",
    "                  X_balanced_train, \n",
    "                  y_balanced_train, \n",
    "                  X_balanced_test, \n",
    "                  y_balanced_test)"
   ]
  },
  {
   "cell_type": "code",
   "execution_count": 54,
   "metadata": {
    "scrolled": false
   },
   "outputs": [
    {
     "name": "stdout",
     "output_type": "stream",
     "text": [
      "Классификатор без тонкой настройки:\n",
      "avg recall 0.04501424501424501\n",
      "avg precision 0.16666666666666666\n",
      "avg accuracy 0.7678812415654515\n",
      "\n",
      "min recall 0.0\n",
      "max recall 1.0\n",
      "\n",
      "min precision 0.0\n",
      "max precision 1.0\n",
      "\n",
      "min accuracy 0.42105263157894735\n",
      "max accuracy 0.9473684210526315\n",
      "\n",
      "Классификатор с подбором гиперпараметров:\n",
      "avg recall 0.3798340548340549\n",
      "avg precision 0.2919994116826696\n",
      "avg accuracy 0.6257309941520469\n",
      "\n",
      "min recall 0.0\n",
      "max recall 1.0\n",
      "\n",
      "min precision 0.0\n",
      "max precision 0.8333333333333334\n",
      "\n",
      "min accuracy 0.2631578947368421\n",
      "max accuracy 0.8947368421052632\n"
     ]
    }
   ],
   "source": [
    "print(\"Классификатор без тонкой настройки:\")\n",
    "report_classifier(clf, \n",
    "                  X_bias_0_train, \n",
    "                  y_bias_0_train, \n",
    "                  X_bias_0_test, \n",
    "                  y_bias_0_test)\n",
    "print()\n",
    "\n",
    "print(\"Классификатор с подбором гиперпараметров:\")\n",
    "report_classifier(clf_tuned_bias_0, \n",
    "                  X_bias_0_train, \n",
    "                  y_bias_0_train, \n",
    "                  X_bias_0_test, \n",
    "                  y_bias_0_test)"
   ]
  },
  {
   "cell_type": "code",
   "execution_count": 55,
   "metadata": {},
   "outputs": [
    {
     "name": "stdout",
     "output_type": "stream",
     "text": [
      "Классификатор без тонкой настройки:\n",
      "avg recall 0.34210526315789475\n",
      "avg precision 0.375\n",
      "avg accuracy 0.6776315789473685\n",
      "\n",
      "min recall 0.0\n",
      "max recall 1.0\n",
      "\n",
      "min precision 0.0\n",
      "max precision 1.0\n",
      "\n",
      "min accuracy 0.25\n",
      "max accuracy 1.0\n",
      "\n",
      "Классификатор с подбором гиперпараметров:\n",
      "avg recall 0.3728070175438596\n",
      "avg precision 0.40131578947368424\n",
      "avg accuracy 0.6743421052631579\n",
      "\n",
      "min recall 0.0\n",
      "max recall 1.0\n",
      "\n",
      "min precision 0.0\n",
      "max precision 1.0\n",
      "\n",
      "min accuracy 0.25\n",
      "max accuracy 1.0\n"
     ]
    }
   ],
   "source": [
    "print(\"Классификатор без тонкой настройки:\")\n",
    "report_classifier_neg(clf, \n",
    "                      X_bias_1_train, \n",
    "                      y_bias_1_train, \n",
    "                      X_bias_1_test, \n",
    "                      y_bias_1_test)\n",
    "print()\n",
    "\n",
    "print(\"Классификатор с подбором гиперпараметров:\")\n",
    "report_classifier_neg(clf_tuned_bias_1, \n",
    "                      X_bias_1_train, \n",
    "                      y_bias_1_train, \n",
    "                      X_bias_1_test, \n",
    "                      y_bias_1_test)"
   ]
  },
  {
   "cell_type": "markdown",
   "metadata": {},
   "source": [
    "#### Отчеты о работе классификатора на основе полносвязной сети на тестовых данных после подбора параметров для каждой из категорий целевых признаков"
   ]
  },
  {
   "cell_type": "code",
   "execution_count": 56,
   "metadata": {},
   "outputs": [
    {
     "name": "stdout",
     "output_type": "stream",
     "text": [
      "Классификатор без тонкой настройки:\n",
      "avg recall 0.55188028482421\n",
      "avg precision 0.5711244622459574\n",
      "avg accuracy 0.6323987538940811\n",
      "\n",
      "min recall 0.0\n",
      "max recall 1.0\n",
      "\n",
      "min precision 0.0\n",
      "max precision 1.0\n",
      "\n",
      "min accuracy 0.2222222222222222\n",
      "max accuracy 1.0\n",
      "\n",
      "Классификатор с подбором гиперпараметров:\n",
      "avg recall 0.5727859368046283\n",
      "avg precision 0.5688807298620382\n",
      "avg accuracy 0.6209761163032191\n",
      "\n",
      "min recall 0.0\n",
      "max recall 1.0\n",
      "\n",
      "min precision 0.0\n",
      "max precision 1.0\n",
      "\n",
      "min accuracy 0.2222222222222222\n",
      "max accuracy 1.0\n"
     ]
    }
   ],
   "source": [
    "print(\"Классификатор без тонкой настройки:\")\n",
    "report_classifier(clf_mlp, \n",
    "                  X_balanced_train, \n",
    "                  y_balanced_train, \n",
    "                  X_balanced_test, \n",
    "                  y_balanced_test)\n",
    "print()\n",
    "\n",
    "print(\"Классификатор с подбором гиперпараметров:\")\n",
    "report_classifier(clf_mlp_tuned_balanced, \n",
    "                  X_balanced_train, \n",
    "                  y_balanced_train, \n",
    "                  X_balanced_test, \n",
    "                  y_balanced_test)"
   ]
  },
  {
   "cell_type": "code",
   "execution_count": 57,
   "metadata": {},
   "outputs": [
    {
     "name": "stdout",
     "output_type": "stream",
     "text": [
      "Классификатор без тонкой настройки:\n",
      "avg recall 0.06360429693763028\n",
      "avg precision 0.2250712250712251\n",
      "avg accuracy 0.7656320287899225\n",
      "\n",
      "min recall 0.0\n",
      "max recall 0.5\n",
      "\n",
      "min precision 0.0\n",
      "max precision 1.0\n",
      "\n",
      "min accuracy 0.47368421052631576\n",
      "max accuracy 0.9473684210526315\n",
      "\n",
      "Классификатор с подбором гиперпараметров:\n",
      "avg recall 0.3462691629358296\n",
      "avg precision 0.31208174541507877\n",
      "avg accuracy 0.6644174538911386\n",
      "\n",
      "min recall 0.0\n",
      "max recall 1.0\n",
      "\n",
      "min precision 0.0\n",
      "max precision 1.0\n",
      "\n",
      "min accuracy 0.2631578947368421\n",
      "max accuracy 0.8947368421052632\n"
     ]
    }
   ],
   "source": [
    "print(\"Классификатор без тонкой настройки:\")\n",
    "report_classifier(clf_mlp, \n",
    "                  X_bias_0_train, \n",
    "                  y_bias_0_train, \n",
    "                  X_bias_0_test, \n",
    "                  y_bias_0_test)\n",
    "print()\n",
    "\n",
    "print(\"Классификатор с подбором гиперпараметров:\")\n",
    "report_classifier(clf_mlp_tuned_bias_0, \n",
    "                  X_bias_0_train, \n",
    "                  y_bias_0_train, \n",
    "                  X_bias_0_test, \n",
    "                  y_bias_0_test)"
   ]
  },
  {
   "cell_type": "code",
   "execution_count": 58,
   "metadata": {},
   "outputs": [
    {
     "name": "stdout",
     "output_type": "stream",
     "text": [
      "Классификатор без тонкой настройки:\n",
      "avg recall 0.5526315789473685\n",
      "avg precision 0.49561403508771934\n",
      "avg accuracy 0.6743421052631579\n",
      "\n",
      "min recall 0.0\n",
      "max recall 1.0\n",
      "\n",
      "min precision 0.0\n",
      "max precision 1.0\n",
      "\n",
      "min accuracy 0.0\n",
      "max accuracy 1.0\n",
      "\n",
      "Классификатор с подбором гиперпараметров:\n",
      "avg recall 0.34868421052631576\n",
      "avg precision 0.40789473684210525\n",
      "avg accuracy 0.6414473684210527\n",
      "\n",
      "min recall 0.0\n",
      "max recall 1.0\n",
      "\n",
      "min precision 0.0\n",
      "max precision 1.0\n",
      "\n",
      "min accuracy 0.0\n",
      "max accuracy 1.0\n"
     ]
    }
   ],
   "source": [
    "print(\"Классификатор без тонкой настройки:\")\n",
    "report_classifier_neg(clf_mlp, \n",
    "                      X_bias_1_train, \n",
    "                      y_bias_1_train, \n",
    "                      X_bias_1_test, \n",
    "                      y_bias_1_test)\n",
    "print()\n",
    "\n",
    "print(\"Классификатор с подбором гиперпараметров:\")\n",
    "report_classifier_neg(clf_mlp_tuned_bias_1, \n",
    "                      X_bias_1_train, \n",
    "                      y_bias_1_train, \n",
    "                      X_bias_1_test, \n",
    "                      y_bias_1_test)"
   ]
  },
  {
   "cell_type": "markdown",
   "metadata": {},
   "source": [
    "## Сохранение модели"
   ]
  },
  {
   "cell_type": "code",
   "execution_count": 59,
   "metadata": {},
   "outputs": [
    {
     "data": {
      "text/plain": [
       "MLPClassifier(alpha=0.1, early_stopping=True, hidden_layer_sizes=(150, 120),\n",
       "              learning_rate_init=0.02, max_iter=1000, n_iter_no_change=50,\n",
       "              random_state=42)"
      ]
     },
     "execution_count": 59,
     "metadata": {},
     "output_type": "execute_result"
    }
   ],
   "source": [
    "# Обучаем классификаторы на всех данных\n",
    "X_scaled = preprocessing.scale(X)\n",
    "X_scaled_bias_1 = preprocessing.scale(X_bias_1)\n",
    "\n",
    "clf_mlp_tuned_balanced.fit(X_scaled, y_balanced)\n",
    "clf_mlp_tuned_bias_0.fit(X_scaled, y_bias_0)\n",
    "clf_mlp_tuned_bias_1.fit(X_scaled_bias_1, y_bias_1)"
   ]
  },
  {
   "cell_type": "code",
   "execution_count": 60,
   "metadata": {},
   "outputs": [
    {
     "data": {
      "text/plain": [
       "['model_bias_1.joblib']"
      ]
     },
     "execution_count": 60,
     "metadata": {},
     "output_type": "execute_result"
    }
   ],
   "source": [
    "# Сохраняем лучшие классификаторы на диск\n",
    "dump(clf_mlp_tuned_balanced, 'model_balanced.joblib')\n",
    "dump(clf_mlp_tuned_bias_0, 'model_bias_0.joblib') \n",
    "dump(clf_mlp_tuned_bias_1, 'model_bias_1.joblib') "
   ]
  }
 ],
 "metadata": {
  "kernelspec": {
   "display_name": "Python 3 (ipykernel)",
   "language": "python",
   "name": "python3"
  },
  "language_info": {
   "codemirror_mode": {
    "name": "ipython",
    "version": 3
   },
   "file_extension": ".py",
   "mimetype": "text/x-python",
   "name": "python",
   "nbconvert_exporter": "python",
   "pygments_lexer": "ipython3",
   "version": "3.9.7"
  }
 },
 "nbformat": 4,
 "nbformat_minor": 4
}
